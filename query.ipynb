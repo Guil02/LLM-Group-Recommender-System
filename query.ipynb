{
 "cells": [
  {
   "cell_type": "markdown",
   "metadata": {},
   "source": [
    "Get Tags List and User List"
   ]
  },
  {
   "cell_type": "code",
   "execution_count": 1,
   "metadata": {},
   "outputs": [],
   "source": [
    "import pandas as pd\n",
    "import copy\n",
    "\n",
    "# Load the recipes and interactions data\n",
    "recipes = pd.read_csv(\"RAW_recipes.csv\")\n",
    "interactions = pd.read_csv(\"RAW_interactions.csv\")\n",
    "\n",
    "# Extract unique tags from the dataset\n",
    "unique_tags = set()\n",
    "for tag_list in recipes['tags']:\n",
    "    # Correcting parsing based on your description that tags appear like a Python list in string format\n",
    "    tag_list = tag_list.strip('[]').replace(\"'\", \"\").split(', ')\n",
    "    for tag in tag_list:\n",
    "        cleaned_tag = tag.strip()  # Remove any leading/trailing spaces\n",
    "        if cleaned_tag:  # Ensure the tag is not empty\n",
    "            unique_tags.add(cleaned_tag)\n",
    "\n",
    "# Extract unique users from the dataset\n",
    "users = interactions['user_id'].unique()"
   ]
  },
  {
   "cell_type": "markdown",
   "metadata": {},
   "source": [
    "Make User Profiles"
   ]
  },
  {
   "cell_type": "code",
   "execution_count": 2,
   "metadata": {},
   "outputs": [],
   "source": [
    "# Create an empty dictionary to store the tags for each user\n",
    "user_tags = {user: {} for user in users}\n",
    "number_appeared = {user: {} for user in users}\n",
    "\n",
    "# Iterate over the interactions data to update the user_tags dictionary\n",
    "for index, row in interactions.iterrows():\n",
    "    user_id = row['user_id']\n",
    "    recipe_id = row['recipe_id']\n",
    "    rating = row['rating']\n",
    "    recipe_tags = recipes[recipes['id'] == recipe_id]['tags'].values[0]\n",
    "    recipe_tags = recipe_tags.strip('[]').replace(\"'\", \"\").split(', ')\n",
    "    for tag in recipe_tags:\n",
    "        cleaned_tag = tag.strip()\n",
    "        if cleaned_tag:\n",
    "            if cleaned_tag not in user_tags[user_id]:\n",
    "                user_tags[user_id][cleaned_tag] = 0\n",
    "                number_appeared[user_id][cleaned_tag] = 0\n",
    "            user_tags[user_id][cleaned_tag] += rating\n",
    "            number_appeared[user_id][cleaned_tag] += 1\n",
    "\n",
    "# Get Average rating for each tag\n",
    "for user in user_tags:\n",
    "    for tag in user_tags[user]:\n",
    "        if number_appeared[user][tag] > 0:\n",
    "            user_tags[user][tag] /= number_appeared[user][tag]\n"
   ]
  },
  {
   "cell_type": "code",
   "execution_count": 3,
   "metadata": {},
   "outputs": [
    {
     "name": "stdout",
     "output_type": "stream",
     "text": [
      "AVG REC:  [('sole-and-flounder', 5.0), ('egyptian', 5.0), ('cuban', 5.0), ('pears', 5.0), ('libyan', 5.0), ('manicotti', 5.0), ('mardi-gras-carnival', 5.0), ('hawaiian', 5.0), ('oaxacan', 5.0), ('ontario', 5.0)]\n",
      "LM REC:  [('sole-and-flounder', 5.0), ('egyptian', 5.0), ('cuban', 5.0), ('pears', 5.0), ('libyan', 5.0), ('manicotti', 5.0), ('mardi-gras-carnival', 5.0), ('hawaiian', 5.0), ('oaxacan', 5.0), ('ontario', 5.0)]\n",
      "MP REC:  [('weeknight', 5.0), ('fruit', 5.0), ('vegan', 5.0), ('30-minutes-or-less', 5.0), ('low-protein', 5.0), ('salads', 5.0), ('dinner-party', 5.0), ('low-cholesterol', 5.0), ('low-carb', 5.0), ('healthy-2', 5.0)]\n"
     ]
    }
   ],
   "source": [
    "import recommender\n",
    "\n",
    "group_preferences = []\n",
    "for user in user_tags:\n",
    "    user_preferences = {tag: rating for tag, rating in user_tags[user].items()}\n",
    "    group_preferences.append(user_preferences)\n",
    "    \n",
    "recs = []\n",
    "\n",
    "recs.append(recommender.average_recommendation(group_preferences[:5]))\n",
    "print(\"AVG REC: \", recs[0])\n",
    "\n",
    "recs.append(recommender.least_misery_recommendation(group_preferences[:5]))\n",
    "print(\"LM REC: \", recs[1])\n",
    "\n",
    "recs.append(recommender.most_pleasure_recommendation(group_preferences[:5]))\n",
    "print(\"MP REC: \", recs[2])\n"
   ]
  },
  {
   "cell_type": "code",
   "execution_count": 4,
   "metadata": {},
   "outputs": [
    {
     "name": "stdout",
     "output_type": "stream",
     "text": [
      "Group recommendations: ['easy as pita bread', 'pecan pear tossed salad', 'pear and blue cheese puffs', 'loz  almond sweetmeats', 'poached pear delight', 'thoom   arabic garlic sauce', 'taco salad supreme', 'middle eastern pilaff', 'maple grilled pears with brown sugar and cinnamon', 'broccoli and wasabi dip']\n",
      "#############################################\n",
      "Group recommendations: ['easy as pita bread', 'pecan pear tossed salad', 'pear and blue cheese puffs', 'loz  almond sweetmeats', 'poached pear delight', 'thoom   arabic garlic sauce', 'taco salad supreme', 'middle eastern pilaff', 'maple grilled pears with brown sugar and cinnamon', 'broccoli and wasabi dip']\n",
      "#############################################\n",
      "Group recommendations: ['onion and orange salad', 'watermelon  cucumber and feta salad', 'easy balsamic asaparagus medley', 'roasted carrot and avocado salad', 'scandanavian apple salad', 'caramelized pear and toasted almond salad', 'cucumber and celery salad', 'apple   spinach salad', 'greek salad with shaved fennel', 'albanian tossed salad']\n",
      "#############################################\n"
     ]
    }
   ],
   "source": [
    "from sklearn.metrics.pairwise import cosine_similarity\n",
    "import numpy as np\n",
    "\n",
    "\n",
    "# Convert the recipe tags to a DataFrame\n",
    "recipe_tag_matrix = []\n",
    "recipe_ids = []\n",
    "recipe_names = []\n",
    "\n",
    "for index, row in recipes.iterrows():\n",
    "    recipe_id = row['id']\n",
    "    recipe_tags = row['tags'].strip('[]').replace(\"'\", \"\").split(', ')\n",
    "    recipe_tags = [tag.strip() for tag in recipe_tags if tag.strip()]\n",
    "    tag_vector = {tag: 1 for tag in recipe_tags}\n",
    "    recipe_tag_matrix.append(tag_vector)\n",
    "    recipe_ids.append(recipe_id)\n",
    "    recipe_names.append(row['name'])\n",
    "\n",
    "recipe_tag_df = pd.DataFrame(recipe_tag_matrix).fillna(0)\n",
    "\n",
    "# Compute similarity scores between group tags and recipes\n",
    "def compute_similarity(group_vector, recipe_matrix):\n",
    "    group_vector = np.array(group_vector).reshape(1, -1)\n",
    "    similarity_scores = cosine_similarity(group_vector, recipe_matrix)\n",
    "    return similarity_scores.flatten()\n",
    "\n",
    "for recommendations in recs:\n",
    "    recommendations = dict(recommendations)\n",
    "\n",
    "    # Generate recommendations for the group based on similarity\n",
    "    group_vector = [recommendations.get(tag, 0) for tag in recipe_tag_df.columns]\n",
    "    similarity_scores = compute_similarity(group_vector, recipe_tag_df.values)\n",
    "    recommended_indices = np.argsort(similarity_scores)[::-1]  # Sort in descending order\n",
    "    recommended_recipes = [recipe_names[idx] for idx in recommended_indices]\n",
    "\n",
    "    # Print top 10 recommendations for the group\n",
    "    print(f\"Group recommendations: {recommended_recipes[:10]}\")\n",
    "    print(\"#############################################\")"
   ]
  },
  {
   "cell_type": "markdown",
   "metadata": {},
   "source": [
    "LLM recommender"
   ]
  },
  {
   "cell_type": "code",
   "execution_count": 9,
   "metadata": {},
   "outputs": [
    {
     "name": "stdout",
     "output_type": "stream",
     "text": [
      "OPENAI REC:  [('breads', 5.0), ('soups-stews', 4.916666666666667), ('oven', 4.916666666666667), ('refrigerator', 5.0), ('stews', 5.0), ('beginner-cook', 5.0), ('main-dish', 4.913660130718954), ('portuguese', 5.0), ('drop-cookies', 5.0), ('lunch', 4.883333333333333)]\n",
      "OPENAI REC:  [('breads', 5.0), ('soups-stews', 4.916666666666667), ('oven', 4.916666666666667), ('refrigerator', 5.0), ('stews', 5.0), ('beginner-cook', 5.0), ('main-dish', 4.913660130718954), ('portuguese', 5.0), ('drop-cookies', 5.0), ('lunch', 4.883333333333333)]\n",
      "Group recommendations: ['slow cooked yo ho ho saucy wench', 'crock pot meatball stew', 'slow cooker lentil beef stew', 'pork and cabbage stew', 'pollo crepes con mole azul', 'chili rice casserole', 'shortcut brunswick stew by campbell s', 'creamy bratwurst stew', 'quick fix beef stew', 'wowlers   runzas']\n"
     ]
    }
   ],
   "source": [
    "import recommender\n",
    "import ast\n",
    "\n",
    "recommendations = recommender.openai_recommendation(group_preferences[:5])\n",
    "recommendations = ast.literal_eval(recommendations)\n",
    "print(\"OPENAI REC: \", recommendations)\n",
    "\n",
    "recommendations_dict = {tag: rating for tag, rating in recommendations}\n",
    "\n",
    "# Generate recommendations for the group based on similarity\n",
    "group_vector = [recommendations_dict.get(tag, 0) for tag in recipe_tag_df.columns]\n",
    "similarity_scores = compute_similarity(group_vector, recipe_tag_df.values)\n",
    "recommended_indices = np.argsort(similarity_scores)[::-1]  # Sort in descending order\n",
    "recommended_recipes = [recipe_names[idx] for idx in recommended_indices]\n",
    "\n",
    "# Print top 10 recommendations for the group\n",
    "print(f\"Group recommendations: {recommended_recipes[:10]}\")"
   ]
  }
 ],
 "metadata": {
  "kernelspec": {
   "display_name": "Python 3",
   "language": "python",
   "name": "python3"
  },
  "language_info": {
   "codemirror_mode": {
    "name": "ipython",
    "version": 3
   },
   "file_extension": ".py",
   "mimetype": "text/x-python",
   "name": "python",
   "nbconvert_exporter": "python",
   "pygments_lexer": "ipython3",
   "version": "3.10.7"
  }
 },
 "nbformat": 4,
 "nbformat_minor": 2
}
