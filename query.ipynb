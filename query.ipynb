{
 "cells": [
  {
   "cell_type": "markdown",
   "metadata": {},
   "source": [
    "Get Preference Order"
   ]
  },
  {
   "cell_type": "code",
   "execution_count": 2,
   "metadata": {},
   "outputs": [],
   "source": [
    "from itertools import combinations\n",
    "\n",
    "MIN_NUMBER = 1\n",
    "\n",
    "def all_subsets_ordered(input_dict):\n",
    "    # Extract keys from the dictionary and convert them into a list\n",
    "    input_list = list(input_dict.keys())\n",
    "    \n",
    "    subsets = []\n",
    "    # Generate all combinations for each possible size starting from 2 to include only subsets of size greater than 1\n",
    "    for r in range(2, len(input_list) + 1):\n",
    "        for combo in combinations(input_list, r):\n",
    "            subsets.append(list(combo))\n",
    "    \n",
    "    # Sort subsets by the size (descending) and then lexicographically to maintain initial order\n",
    "    subsets.sort(key=lambda x: (-len(x), x))\n",
    "    return subsets\n"
   ]
  },
  {
   "cell_type": "markdown",
   "metadata": {},
   "source": [
    "Get Tags List and User List"
   ]
  },
  {
   "cell_type": "code",
   "execution_count": 3,
   "metadata": {},
   "outputs": [],
   "source": [
    "import pandas as pd\n",
    "import copy\n",
    "\n",
    "# Load the recipes and interactions data\n",
    "recipes = pd.read_csv(\"RAW_recipes.csv\")\n",
    "interactions = pd.read_csv(\"RAW_interactions.csv\")\n",
    "\n",
    "# Extract unique tags from the dataset\n",
    "unique_tags = set()\n",
    "for tag_list in recipes['tags']:\n",
    "    # Correcting parsing based on your description that tags appear like a Python list in string format\n",
    "    tag_list = tag_list.strip('[]').replace(\"'\", \"\").split(', ')\n",
    "    for tag in tag_list:\n",
    "        cleaned_tag = tag.strip()  # Remove any leading/trailing spaces\n",
    "        if cleaned_tag:  # Ensure the tag is not empty\n",
    "            unique_tags.add(cleaned_tag)\n",
    "\n",
    "# Extract unique users from the dataset\n",
    "users = interactions['user_id'].unique()"
   ]
  },
  {
   "cell_type": "markdown",
   "metadata": {},
   "source": [
    "Make User Profiles"
   ]
  },
  {
   "cell_type": "code",
   "execution_count": 4,
   "metadata": {},
   "outputs": [],
   "source": [
    "# Create an empty dictionary to store the tags for each user\n",
    "user_tags = {user: {} for user in users}\n",
    "number_appeared = {user: {} for user in users}\n",
    "\n",
    "# Iterate over the interactions data to update the user_tags dictionary\n",
    "for index, row in interactions.iterrows():\n",
    "    user_id = row['user_id']\n",
    "    recipe_id = row['recipe_id']\n",
    "    rating = row['rating']\n",
    "    recipe_tags = recipes[recipes['id'] == recipe_id]['tags'].values[0]\n",
    "    recipe_tags = recipe_tags.strip('[]').replace(\"'\", \"\").split(', ')\n",
    "    for tag in recipe_tags:\n",
    "        cleaned_tag = tag.strip()\n",
    "        if cleaned_tag:\n",
    "            if cleaned_tag not in user_tags[user_id]:\n",
    "                user_tags[user_id][cleaned_tag] = 0\n",
    "                number_appeared[user_id][cleaned_tag] = 0\n",
    "            user_tags[user_id][cleaned_tag] += rating\n",
    "            number_appeared[user_id][cleaned_tag] += 1\n",
    "\n",
    "# Get Average rating for each tag\n",
    "for user in user_tags:\n",
    "    for tag in user_tags[user]:\n",
    "        if number_appeared[user][tag] > 0:\n",
    "            user_tags[user][tag] /= number_appeared[user][tag]\n",
    "\n",
    "\n"
   ]
  },
  {
   "cell_type": "code",
   "execution_count": 8,
   "metadata": {},
   "outputs": [
    {
     "name": "stdout",
     "output_type": "stream",
     "text": [
      "[('breakfast-casseroles', 5.0), ('breakfast-potatoes', 5.0), ('pork-loins-roast', 5.0), ('side-dishes-beans', 5.0), ('beans-side-dishes', 5.0), ('irish-st-patricks-day', 5.0), ('desserts-fruit', 5.0), ('desserts-easy', 5.0), ('baked-beans', 5.0), ('middle-eastern-main-dish', 5.0)]\n",
      "[('breakfast-casseroles', 5.0), ('breakfast-potatoes', 5.0), ('pork-loins-roast', 5.0), ('side-dishes-beans', 5.0), ('beans-side-dishes', 5.0), ('irish-st-patricks-day', 5.0), ('desserts-fruit', 5.0), ('desserts-easy', 5.0), ('baked-beans', 5.0), ('middle-eastern-main-dish', 5.0)]\n",
      "[('weeknight', 5.0), ('time-to-make', 5.0), ('course', 5.0), ('main-ingredient', 5.0), ('preparation', 5.0), ('occasion', 5.0), ('soups-stews', 5.0), ('beans', 5.0), ('vegetables', 5.0), ('easy', 5.0)]\n"
     ]
    }
   ],
   "source": [
    "import recommender\n",
    "\n",
    "\n",
    "group_preferences = []\n",
    "for user in user_tags:\n",
    "    user_preferences = {tag: rating for tag, rating in user_tags[user].items()}\n",
    "    group_preferences.append(user_preferences)\n",
    "\n",
    "recommendations = recommender.average_recommendation(group_preferences)\n",
    "print(recommendations)\n",
    "recommendations = recommender.least_misery_recommendation(group_preferences)\n",
    "print(recommendations)\n",
    "recommendations = recommender.most_pleasure_recommendation(group_preferences)\n",
    "print(recommendations)"
   ]
  },
  {
   "cell_type": "code",
   "execution_count": 11,
   "metadata": {},
   "outputs": [
    {
     "name": "stdout",
     "output_type": "stream",
     "text": [
      "Group recommendations: ['white bean   green chile pepper soup', 'ten can soup', 'sausage  lentil and kale soup', 'winter vegetable and bean soup with pesto', 'two bean toss', 'creamy beanie weenie soup', 'lima bean and cabbage soup', 'slimastroni soup', 'sopranos  escarole   beans soup', 'herbed split pea soup']\n"
     ]
    }
   ],
   "source": [
    "from sklearn.metrics.pairwise import cosine_similarity\n",
    "import numpy as np\n",
    "\n",
    "\n",
    "# Convert the recipe tags to a DataFrame\n",
    "recipe_tag_matrix = []\n",
    "recipe_ids = []\n",
    "recipe_names = []\n",
    "\n",
    "for index, row in recipes.iterrows():\n",
    "    recipe_id = row['id']\n",
    "    recipe_tags = row['tags'].strip('[]').replace(\"'\", \"\").split(', ')\n",
    "    recipe_tags = [tag.strip() for tag in recipe_tags if tag.strip()]\n",
    "    tag_vector = {tag: 1 for tag in recipe_tags}\n",
    "    recipe_tag_matrix.append(tag_vector)\n",
    "    recipe_ids.append(recipe_id)\n",
    "    recipe_names.append(row['name'])\n",
    "\n",
    "recipe_tag_df = pd.DataFrame(recipe_tag_matrix).fillna(0)\n",
    "\n",
    "# Compute similarity scores between group tags and recipes\n",
    "def compute_similarity(group_vector, recipe_matrix):\n",
    "    group_vector = np.array(group_vector).reshape(1, -1)\n",
    "    similarity_scores = cosine_similarity(group_vector, recipe_matrix)\n",
    "    return similarity_scores.flatten()\n",
    "\n",
    "recommendations = dict(recommendations)\n",
    "\n",
    "# Generate recommendations for the group based on similarity\n",
    "group_vector = [recommendations.get(tag, 0) for tag in recipe_tag_df.columns]\n",
    "similarity_scores = compute_similarity(group_vector, recipe_tag_df.values)\n",
    "recommended_indices = np.argsort(similarity_scores)[::-1]  # Sort in descending order\n",
    "recommended_recipes = [recipe_names[idx] for idx in recommended_indices]\n",
    "\n",
    "# Print top 10 recommendations for the group\n",
    "print(f\"Group recommendations: {recommended_recipes[:10]}\")"
   ]
  }
 ],
 "metadata": {
  "kernelspec": {
   "display_name": "Python 3",
   "language": "python",
   "name": "python3"
  },
  "language_info": {
   "codemirror_mode": {
    "name": "ipython",
    "version": 3
   },
   "file_extension": ".py",
   "mimetype": "text/x-python",
   "name": "python",
   "nbconvert_exporter": "python",
   "pygments_lexer": "ipython3",
   "version": "3.10.12"
  }
 },
 "nbformat": 4,
 "nbformat_minor": 2
}
