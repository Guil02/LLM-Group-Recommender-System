{
 "cells": [
  {
   "cell_type": "markdown",
   "metadata": {},
   "source": [
    "Get Preference Order"
   ]
  },
  {
   "cell_type": "code",
   "execution_count": null,
   "metadata": {},
   "outputs": [],
   "source": [
    "from itertools import combinations\n",
    "\n",
    "MIN_NUMBER = 1\n",
    "\n",
    "def all_subsets_ordered(input_dict):\n",
    "    # Extract keys from the dictionary and convert them into a list\n",
    "    input_list = list(input_dict.keys())\n",
    "    \n",
    "    subsets = []\n",
    "    # Generate all combinations for each possible size starting from 2 to include only subsets of size greater than 1\n",
    "    for r in range(2, len(input_list) + 1):\n",
    "        for combo in combinations(input_list, r):\n",
    "            subsets.append(list(combo))\n",
    "    \n",
    "    # Sort subsets by the size (descending) and then lexicographically to maintain initial order\n",
    "    subsets.sort(key=lambda x: (-len(x), x))\n",
    "    return subsets\n"
   ]
  },
  {
   "cell_type": "markdown",
   "metadata": {},
   "source": [
    "Get Tags List and User List"
   ]
  },
  {
   "cell_type": "code",
   "execution_count": 16,
   "metadata": {},
   "outputs": [
    {
     "name": "stdout",
     "output_type": "stream",
     "text": [
      "Unique tags:  551\n",
      "Tags:  {'crock-pot-slow-cooker', 'polish', 'crock-pot-main-dish', 'sandwiches', 'vegetables', 'pork-loins-roast', 'broil', 'duck-breasts', 'microwave', 'frozen-desserts', 'shellfish', 'pakistani', 'main-dish-seafood', 'honduran', 'pork-loins', 'ice-cream', 'orange-roughy', 'Throw the ultimate fiesta with this sopaipillas recipe from Food.com.', 'low-calorie', 'southern-united-states', 'mango', 'long-grain-rice', 'peaches', 'laotian', 'very-low-carbs', 'condiments-etc', 'spring', 'novelty', 'christmas', 'czech', 'kwanzaa', 'heirloom-historical', 'quebec', 'chicken', 'somalian', 'fall', 'cantonese', 'elk', 'japanese', 'low-fat', 'rosh-hashanah', 'marinades-and-rubs', 'danish', 'prepared-potatoes', 'chicken-crock-pot', 'chick-peas-garbanzos', 'dairy-free', 'italian', 'beef-kidney', 'pickeral', 'kid-friendly', 'tilapia', 'gifts', 'meat', 'rolled-cookies', 'bread-machine', 'guatemalan', 'meatballs', 'tempeh', 'bear', 'angolan', 'beef-ribs', 'papaya', 'to-go', 'turkey-breasts', 'tuna', 'sauces', 'greens', 'brown-bag', 'sudanese', 'veggie-burgers', 'beef-sausage', 'for-1-or-2', 'freshwater-fish', 'a1-sauce', 'roast-beef-main-dish', 'winter', 'dips-summer', 'pizza', 'colombian', 'pasta-rice-and-grains-elbow-macaroni', 'punch', 'burgers', 'cranberry-sauce', 'cuban', 'taste-mood', 'april-fools-day', 'ramadan', 'quail', 'breakfast-potatoes', 'fruit', 'pacific-northwest', 'cheese', 'served-hot', 'lactose', 'healthy', 'jewish-sephardi', 'creole', 'stews', 'caribbean', 'potluck', 'scallops', 'lebanese', 'refrigerator', 'oamc-freezer-make-ahead', 'number-of-servings', 'unprocessed-freezer', 'herb-and-spice-mixes', 'european', 'hanukkah', 'catfish', 'libyan', 'turkey', 'halibut', 'penne', 'yams-sweet-potatoes', 'bisques-cream-soups', 'pot-roast', 'snacks', 'low-in-something', 'canadian', 'bread-pudding', 'tropical-fruit', 'brown-rice', 'eggplant', 'whole-turkey', 'iranian-persian', 'blueberries', 'short-grain-rice', 'beef-crock-pot', 'moose', 'eggs-breakfast', 'dinner-party', 'halloween-cocktails', 'technique', '1-day-or-more', 'holiday-event', 'low-cholesterol', 'chili', 'sweet-sauces', 'chinese', 'pork-sausage', 'indonesian', 'lemon', 'pork-chops', 'cocktails', 'cheesecake', 'beginner-cook', '4-hours-or-less', 'inexpensive', 'green-yellow-beans', 'plums', 'less_thansql:name_topics_of_recipegreater_than', 'mongolian', 'indian', 'moroccan', 'super-bowl', 'copycat', 'vegan', 'savory-pies', 'high-in-something', 'savory-sauces', 'from-scratch', 'low-carb', 'desserts-easy', 'costa-rican', 'cauliflower', 'filipino', 'side-dishes-beans', 'palestinian', 'romantic', 'saudi-arabian', 'salads', 'deer', 'greek', 'ecuadorean', 'ham-and-bean-soup', 'stuffings-dressings', 'onions', 'african', 'cupcakes', 'scottish', 'asian', 'seafood', 'norwegian', 'crusts-pastry-dough-2', 'brunch', 'collard-greens', 'wild-game', 'valentines-day', 'pork-ribs', 'peppers', 'weeknight', 'mashed-potatoes', 'for-large-groups-holiday-event', 'snacks-sweet', 'micro-melanesia', 'beef-sauces', 'ragu-recipe-contest', 'szechuan', 'simply-potatoes2', 'scones', 'whole-duck', 'poultry', 'equipment', 'lunch', 'diabetic', 'carrots', 'ethiopian', 'vietnamese', 'main-dish-beef', 'steaks', 'steam', 'camping', 'congolese', 'northeastern-united-states', '15-minutes-or-less', 'south-african', 'cakes', 'lobster', 'food-processor-blender', 'quick-breads', 'quiche', 'high-fiber', 'wedding', 'bacon', 'oaxacan', 'shakes', 'drop-cookies', 'served-cold', 'south-west-pacific', 'southwestern-united-states', 'oven', 'hunan', 'omelets-and-frittatas', 'thanksgiving', 'served-hot-new-years', 'ontario', 'jams-and-preserves', 'apples', 'lentils', '60-minutes-or-less', 'breakfast-casseroles', 'veal', 'beef', 'corn', 'rosh-hashana', 'smoker', 'american', 'presentation', 'simply-potatoes', 'bananas', 'pasta', 'venezuelan', 'mardi-gras-carnival', 'cabbage', 'nuts', 'puddings-and-mousses', 'main-dish-pork', 'celebrity', 'for-large-groups', 'seasonal', 'coconut', 'cod', 'occasion', 'one-dish-meal', 'roast-beef', 'low-sodium', 'peanut-butter', 'mothers-day', 'beans', 'swedish', 'soy-tofu', 'duck', 'midwestern', 'squid', 'heirloom-historical-recipes', 'irish', 'pressure-canning', 'small-appliance', 'manicotti', 'dutch', 'chicken-stew', 'spicy', 'baked-beans', 'bean-soup', 'portuguese', 'pancakes-and-waffles', 'breakfast-eggs', 'cookies-and-brownies', 'belgian', 'fish', 'comfort-food', 'pot-pie', 'medium-grain-rice', 'potatoes', 'gluten-free', 'candy', 'beef-barley-soup', 'mahi-mahi', 'native-american', 'dips', 'curries', 'macaroni-and-cheese', 'leftovers', 'spinach', 'low-saturated-fat', 'dehydrator', 'black-bean-soup', 'spaghetti-sauce', 'chicken-stews', 'college', 'breads', 'beef-liver', 'gelatin', 'preparation', 'st-patricks-day', 'toddler-friendly', 'eggs-dairy', 'freezer', 'main-dish-chicken', 'pies-and-tarts', 'independence-day', 'pressure-cooker', 'ham', 'marinara-sauce', 'halloween-cupcakes', 'cherries', 'clear-soups', 'course', 'ground-beef', 'free-of-something', 'roast-beef-comfort-food', 'strawberries', 'austrian', 'barbecue', 'spaghetti', 'kiwifruit', 'finger-food', 'bok-choys', 'whole-chicken', 'grapes', 'superbowl', 'oranges', 'bass', 'high-calcium', 'chutneys', 'irish-st-patricks-day', 'nut-free', 'brewing', 'baja', 'halloween-cakes', 'fathers-day', 'main-dish-pasta', 'zucchini', 'passover', 'crawfish', 'beans-side-dishes', 'british-columbian', 'cake-fillings-and-frostings', 'australian', 'new-years', 'polynesian', 'chicken-breasts', 'summer', 'roast', 'egyptian', 'brazilian', 'main-dish', 'hand-formed-cookies', 'chinese-new-year', 'chard', 'grilling', 'shrimp', 'clams', 'reynolds-wrap', '3-steps-or-less', 'picnic', 'high-protein', 'asparagus', 'snacks-kid-friendly', 'pumpkin-bread', 'stove-top', 'pasta-elbow-macaroni', 'garnishes', 'non-alcoholic', 'pork', 'central-american', 'raspberries', 'no-cook', 'cuisine', 'pitted-fruit', 'squash', 'baking', 'salmon', 'mushrooms', 'low-protein', 'muffins', 'pork-crock-pot', 'mixer', 'citrus', 'pasta-shells', 'rabbit', 'german', 'middle-eastern-main-dish', 'vegetarian', 'desserts-fruit', 'avocado', 'cobblers-and-crisps', 'beverages', 'pennsylvania-dutch', 'middle-eastern', 'nepalese', 'crab', 'egg-free', 'berries', 'sugar-cookies', 'spreads', 'fillings-and-frostings-chocolate', 'memorial-day', 'korean', 'turkey-burgers', 'lamb-sheep', 'jewish-ashkenazi', 'pasta-salad', 'flat-shapes', 'amish-mennonite', 'french', 'peruvian', 'lamb-sheep-main-dish', 'stir-fry', 'labor-day', '5-ingredients-or-less', 'desserts', 'main-ingredient', 'soups-stews', 'english', 'bar-cookies', 'scandinavian', 'stocks', 'smoothies', 'hawaiian', 'perch', 'ravioli-tortellini', 'turkish', 'melons', 'coffee-cakes', 'hidden-valley-ranch', 'birthday', 'yeast', 'biscotti', 'malaysian', 'swiss', 'time-to-make', 'breakfast', 'casseroles', 'pumpkin', 'pineapple', 'salsas', 'elbow-macaroni', 'high-in-something-diabetic-friendly', 'russian', 'grains', 'cajun', '30-minutes-or-less', 'mussels', 'cooking-mixes', 'rice', 'jellies', 'salad-dressings', 'north-american', 'infant-baby-friendly', 'chicken-livers', 'georgian', 'icelandic', 'savory', 'sweet', 'chowders', 'nigerian', 'pies', 'hungarian', 'argentine', 'trout', 'dietary', 'whitefish', 'welsh', 'pork-loin', 'artichoke', 'thai', 'spanish', 'black-beans', 'dips-lunch-snacks', 'eggs', 'brownies', 'chicken-thighs-legs', 'water-bath', 'sole-and-flounder', 'kosher', 'new-zealand', 'oysters', 'white-rice', 'sourdough', 'lime', 'stews-poultry', 'healthy-2', 'soul', 'deep-fry', 'chocolate', 'californian', 'halloween', 'chocolate-chip-cookies', 'beef-organ-meats', 'fudge', 'tomatoes', 'iraqi', 'octopus', 'side-dishes', 'mushroom-soup', 'easter', 'meatloaf', 'pears', 'tex-mex', 'cambodian', 'appetizers', 'no-shell-fish', 'pheasant', 'lasagne', 'oatmeal', 'goose', 'finnish', 'broccoli', 'chilean', 'easy', 'lettuces', 'shrimp-main-dish', 'canning', 'granola-and-porridge', 'namibian', 'tarts', 'cinco-de-mayo', 'pasta-rice-and-grains', 'saltwater-fish', 'gumbo', 'rolls-biscuits', 'beijing', 'south-american', 'mexican', 'lasagna', 'steak', 'puerto-rican', 'wings'}\n"
     ]
    }
   ],
   "source": [
    "import pandas as pd\n",
    "import copy\n",
    "\n",
    "# Load the recipes and interactions data\n",
    "recipes = pd.read_csv(\"RAW_recipes.csv\")\n",
    "interactions = pd.read_csv(\"RAW_interactions.csv\")\n",
    "\n",
    "# Extract unique tags from the dataset\n",
    "unique_tags = set()\n",
    "for tag_list in recipes['tags']:\n",
    "    # Correcting parsing based on your description that tags appear like a Python list in string format\n",
    "    tag_list = tag_list.strip('[]').replace(\"'\", \"\").split(', ')\n",
    "    for tag in tag_list:\n",
    "        cleaned_tag = tag.strip()  # Remove any leading/trailing spaces\n",
    "        if cleaned_tag:  # Ensure the tag is not empty\n",
    "            unique_tags.add(cleaned_tag)\n",
    "\n",
    "# Extract unique users from the dataset\n",
    "users = interactions['user_id'].unique()\n",
    "\n"
   ]
  },
  {
   "cell_type": "markdown",
   "metadata": {},
   "source": [
    "Make User Profiles"
   ]
  },
  {
   "cell_type": "code",
   "execution_count": 17,
   "metadata": {},
   "outputs": [
    {
     "ename": "KeyboardInterrupt",
     "evalue": "",
     "output_type": "error",
     "traceback": [
      "\u001b[0;31m---------------------------------------------------------------------------\u001b[0m",
      "\u001b[0;31mKeyboardInterrupt\u001b[0m                         Traceback (most recent call last)",
      "\u001b[0;32m/tmp/ipykernel_482363/3474542613.py\u001b[0m in \u001b[0;36m?\u001b[0;34m()\u001b[0m\n\u001b[1;32m      6\u001b[0m \u001b[0;32mfor\u001b[0m \u001b[0mindex\u001b[0m\u001b[0;34m,\u001b[0m \u001b[0mrow\u001b[0m \u001b[0;32min\u001b[0m \u001b[0minteractions\u001b[0m\u001b[0;34m.\u001b[0m\u001b[0miterrows\u001b[0m\u001b[0;34m(\u001b[0m\u001b[0;34m)\u001b[0m\u001b[0;34m:\u001b[0m\u001b[0;34m\u001b[0m\u001b[0;34m\u001b[0m\u001b[0m\n\u001b[1;32m      7\u001b[0m     \u001b[0muser_id\u001b[0m \u001b[0;34m=\u001b[0m \u001b[0mrow\u001b[0m\u001b[0;34m[\u001b[0m\u001b[0;34m'user_id'\u001b[0m\u001b[0;34m]\u001b[0m\u001b[0;34m\u001b[0m\u001b[0;34m\u001b[0m\u001b[0m\n\u001b[1;32m      8\u001b[0m     \u001b[0mrecipe_id\u001b[0m \u001b[0;34m=\u001b[0m \u001b[0mrow\u001b[0m\u001b[0;34m[\u001b[0m\u001b[0;34m'recipe_id'\u001b[0m\u001b[0;34m]\u001b[0m\u001b[0;34m\u001b[0m\u001b[0;34m\u001b[0m\u001b[0m\n\u001b[1;32m      9\u001b[0m     \u001b[0mrating\u001b[0m \u001b[0;34m=\u001b[0m \u001b[0mrow\u001b[0m\u001b[0;34m[\u001b[0m\u001b[0;34m'rating'\u001b[0m\u001b[0;34m]\u001b[0m\u001b[0;34m\u001b[0m\u001b[0;34m\u001b[0m\u001b[0m\n\u001b[0;32m---> 10\u001b[0;31m     \u001b[0mrecipe_tags\u001b[0m \u001b[0;34m=\u001b[0m \u001b[0mrecipes\u001b[0m\u001b[0;34m[\u001b[0m\u001b[0mrecipes\u001b[0m\u001b[0;34m[\u001b[0m\u001b[0;34m'id'\u001b[0m\u001b[0;34m]\u001b[0m \u001b[0;34m==\u001b[0m \u001b[0mrecipe_id\u001b[0m\u001b[0;34m]\u001b[0m\u001b[0;34m[\u001b[0m\u001b[0;34m'tags'\u001b[0m\u001b[0;34m]\u001b[0m\u001b[0;34m.\u001b[0m\u001b[0mvalues\u001b[0m\u001b[0;34m[\u001b[0m\u001b[0;36m0\u001b[0m\u001b[0;34m]\u001b[0m\u001b[0;34m\u001b[0m\u001b[0;34m\u001b[0m\u001b[0m\n\u001b[0m\u001b[1;32m     11\u001b[0m     \u001b[0mrecipe_tags\u001b[0m \u001b[0;34m=\u001b[0m \u001b[0mrecipe_tags\u001b[0m\u001b[0;34m.\u001b[0m\u001b[0mstrip\u001b[0m\u001b[0;34m(\u001b[0m\u001b[0;34m'[]'\u001b[0m\u001b[0;34m)\u001b[0m\u001b[0;34m.\u001b[0m\u001b[0mreplace\u001b[0m\u001b[0;34m(\u001b[0m\u001b[0;34m\"'\"\u001b[0m\u001b[0;34m,\u001b[0m \u001b[0;34m\"\"\u001b[0m\u001b[0;34m)\u001b[0m\u001b[0;34m.\u001b[0m\u001b[0msplit\u001b[0m\u001b[0;34m(\u001b[0m\u001b[0;34m', '\u001b[0m\u001b[0;34m)\u001b[0m\u001b[0;34m\u001b[0m\u001b[0;34m\u001b[0m\u001b[0m\n\u001b[1;32m     12\u001b[0m     \u001b[0;32mfor\u001b[0m \u001b[0mtag\u001b[0m \u001b[0;32min\u001b[0m \u001b[0mrecipe_tags\u001b[0m\u001b[0;34m:\u001b[0m\u001b[0;34m\u001b[0m\u001b[0;34m\u001b[0m\u001b[0m\n\u001b[1;32m     13\u001b[0m         \u001b[0mcleaned_tag\u001b[0m \u001b[0;34m=\u001b[0m \u001b[0mtag\u001b[0m\u001b[0;34m.\u001b[0m\u001b[0mstrip\u001b[0m\u001b[0;34m(\u001b[0m\u001b[0;34m)\u001b[0m\u001b[0;34m\u001b[0m\u001b[0;34m\u001b[0m\u001b[0m\n",
      "\u001b[0;32m~/.local/lib/python3.10/site-packages/pandas/core/frame.py\u001b[0m in \u001b[0;36m?\u001b[0;34m(self, key)\u001b[0m\n\u001b[1;32m   3868\u001b[0m                 \u001b[0mself\u001b[0m\u001b[0;34m.\u001b[0m\u001b[0mcolumns\u001b[0m\u001b[0;34m.\u001b[0m\u001b[0mis_unique\u001b[0m\u001b[0;34m\u001b[0m\u001b[0;34m\u001b[0m\u001b[0m\n\u001b[1;32m   3869\u001b[0m                 \u001b[0;32mand\u001b[0m \u001b[0mkey\u001b[0m \u001b[0;32min\u001b[0m \u001b[0mself\u001b[0m\u001b[0;34m.\u001b[0m\u001b[0mcolumns\u001b[0m\u001b[0;34m\u001b[0m\u001b[0;34m\u001b[0m\u001b[0m\n\u001b[1;32m   3870\u001b[0m                 \u001b[0;32mor\u001b[0m \u001b[0mkey\u001b[0m \u001b[0;32min\u001b[0m \u001b[0mself\u001b[0m\u001b[0;34m.\u001b[0m\u001b[0mcolumns\u001b[0m\u001b[0;34m.\u001b[0m\u001b[0mdrop_duplicates\u001b[0m\u001b[0;34m(\u001b[0m\u001b[0mkeep\u001b[0m\u001b[0;34m=\u001b[0m\u001b[0;32mFalse\u001b[0m\u001b[0;34m)\u001b[0m\u001b[0;34m\u001b[0m\u001b[0;34m\u001b[0m\u001b[0m\n\u001b[1;32m   3871\u001b[0m             ):\n\u001b[0;32m-> 3872\u001b[0;31m                 \u001b[0;32mreturn\u001b[0m \u001b[0mself\u001b[0m\u001b[0;34m.\u001b[0m\u001b[0m_get_item_cache\u001b[0m\u001b[0;34m(\u001b[0m\u001b[0mkey\u001b[0m\u001b[0;34m)\u001b[0m\u001b[0;34m\u001b[0m\u001b[0;34m\u001b[0m\u001b[0m\n\u001b[0m\u001b[1;32m   3873\u001b[0m \u001b[0;34m\u001b[0m\u001b[0m\n\u001b[1;32m   3874\u001b[0m             \u001b[0;32melif\u001b[0m \u001b[0mis_mi\u001b[0m \u001b[0;32mand\u001b[0m \u001b[0mself\u001b[0m\u001b[0;34m.\u001b[0m\u001b[0mcolumns\u001b[0m\u001b[0;34m.\u001b[0m\u001b[0mis_unique\u001b[0m \u001b[0;32mand\u001b[0m \u001b[0mkey\u001b[0m \u001b[0;32min\u001b[0m \u001b[0mself\u001b[0m\u001b[0;34m.\u001b[0m\u001b[0mcolumns\u001b[0m\u001b[0;34m:\u001b[0m\u001b[0;34m\u001b[0m\u001b[0;34m\u001b[0m\u001b[0m\n\u001b[1;32m   3875\u001b[0m                 \u001b[0;32mreturn\u001b[0m \u001b[0mself\u001b[0m\u001b[0;34m.\u001b[0m\u001b[0m_getitem_multilevel\u001b[0m\u001b[0;34m(\u001b[0m\u001b[0mkey\u001b[0m\u001b[0;34m)\u001b[0m\u001b[0;34m\u001b[0m\u001b[0;34m\u001b[0m\u001b[0m\n",
      "\u001b[0;32m~/.local/lib/python3.10/site-packages/pandas/core/frame.py\u001b[0m in \u001b[0;36m?\u001b[0;34m(self, item)\u001b[0m\n\u001b[1;32m   4414\u001b[0m             \u001b[0;31m# All places that call _get_item_cache have unique columns,\u001b[0m\u001b[0;34m\u001b[0m\u001b[0;34m\u001b[0m\u001b[0m\n\u001b[1;32m   4415\u001b[0m             \u001b[0;31m#  pending resolution of GH#33047\u001b[0m\u001b[0;34m\u001b[0m\u001b[0;34m\u001b[0m\u001b[0m\n\u001b[1;32m   4416\u001b[0m \u001b[0;34m\u001b[0m\u001b[0m\n\u001b[1;32m   4417\u001b[0m             \u001b[0mloc\u001b[0m \u001b[0;34m=\u001b[0m \u001b[0mself\u001b[0m\u001b[0;34m.\u001b[0m\u001b[0mcolumns\u001b[0m\u001b[0;34m.\u001b[0m\u001b[0mget_loc\u001b[0m\u001b[0;34m(\u001b[0m\u001b[0mitem\u001b[0m\u001b[0;34m)\u001b[0m\u001b[0;34m\u001b[0m\u001b[0;34m\u001b[0m\u001b[0m\n\u001b[0;32m-> 4418\u001b[0;31m             \u001b[0mres\u001b[0m \u001b[0;34m=\u001b[0m \u001b[0mself\u001b[0m\u001b[0;34m.\u001b[0m\u001b[0m_ixs\u001b[0m\u001b[0;34m(\u001b[0m\u001b[0mloc\u001b[0m\u001b[0;34m,\u001b[0m \u001b[0maxis\u001b[0m\u001b[0;34m=\u001b[0m\u001b[0;36m1\u001b[0m\u001b[0;34m)\u001b[0m\u001b[0;34m\u001b[0m\u001b[0;34m\u001b[0m\u001b[0m\n\u001b[0m\u001b[1;32m   4419\u001b[0m \u001b[0;34m\u001b[0m\u001b[0m\n\u001b[1;32m   4420\u001b[0m             \u001b[0mcache\u001b[0m\u001b[0;34m[\u001b[0m\u001b[0mitem\u001b[0m\u001b[0;34m]\u001b[0m \u001b[0;34m=\u001b[0m \u001b[0mres\u001b[0m\u001b[0;34m\u001b[0m\u001b[0;34m\u001b[0m\u001b[0m\n\u001b[1;32m   4421\u001b[0m \u001b[0;34m\u001b[0m\u001b[0m\n",
      "\u001b[0;32m~/.local/lib/python3.10/site-packages/pandas/core/frame.py\u001b[0m in \u001b[0;36m?\u001b[0;34m(self, i, axis)\u001b[0m\n\u001b[1;32m   3803\u001b[0m         \u001b[0;32melse\u001b[0m\u001b[0;34m:\u001b[0m\u001b[0;34m\u001b[0m\u001b[0;34m\u001b[0m\u001b[0m\n\u001b[1;32m   3804\u001b[0m             \u001b[0mlabel\u001b[0m \u001b[0;34m=\u001b[0m \u001b[0mself\u001b[0m\u001b[0;34m.\u001b[0m\u001b[0mcolumns\u001b[0m\u001b[0;34m[\u001b[0m\u001b[0mi\u001b[0m\u001b[0;34m]\u001b[0m\u001b[0;34m\u001b[0m\u001b[0;34m\u001b[0m\u001b[0m\n\u001b[1;32m   3805\u001b[0m \u001b[0;34m\u001b[0m\u001b[0m\n\u001b[1;32m   3806\u001b[0m             \u001b[0mcol_mgr\u001b[0m \u001b[0;34m=\u001b[0m \u001b[0mself\u001b[0m\u001b[0;34m.\u001b[0m\u001b[0m_mgr\u001b[0m\u001b[0;34m.\u001b[0m\u001b[0miget\u001b[0m\u001b[0;34m(\u001b[0m\u001b[0mi\u001b[0m\u001b[0;34m)\u001b[0m\u001b[0;34m\u001b[0m\u001b[0;34m\u001b[0m\u001b[0m\n\u001b[0;32m-> 3807\u001b[0;31m             \u001b[0mresult\u001b[0m \u001b[0;34m=\u001b[0m \u001b[0mself\u001b[0m\u001b[0;34m.\u001b[0m\u001b[0m_box_col_values\u001b[0m\u001b[0;34m(\u001b[0m\u001b[0mcol_mgr\u001b[0m\u001b[0;34m,\u001b[0m \u001b[0mi\u001b[0m\u001b[0;34m)\u001b[0m\u001b[0;34m\u001b[0m\u001b[0;34m\u001b[0m\u001b[0m\n\u001b[0m\u001b[1;32m   3808\u001b[0m \u001b[0;34m\u001b[0m\u001b[0m\n\u001b[1;32m   3809\u001b[0m             \u001b[0;31m# this is a cached value, mark it so\u001b[0m\u001b[0;34m\u001b[0m\u001b[0;34m\u001b[0m\u001b[0m\n\u001b[1;32m   3810\u001b[0m             \u001b[0mresult\u001b[0m\u001b[0;34m.\u001b[0m\u001b[0m_set_as_cached\u001b[0m\u001b[0;34m(\u001b[0m\u001b[0mlabel\u001b[0m\u001b[0;34m,\u001b[0m \u001b[0mself\u001b[0m\u001b[0;34m)\u001b[0m\u001b[0;34m\u001b[0m\u001b[0;34m\u001b[0m\u001b[0m\n",
      "\u001b[0;32m~/.local/lib/python3.10/site-packages/pandas/core/frame.py\u001b[0m in \u001b[0;36m?\u001b[0;34m(self, values, loc)\u001b[0m\n\u001b[1;32m   4391\u001b[0m         \u001b[0;31m# Lookup in columns so that if e.g. a str datetime was passed\u001b[0m\u001b[0;34m\u001b[0m\u001b[0;34m\u001b[0m\u001b[0m\n\u001b[1;32m   4392\u001b[0m         \u001b[0;31m#  we attach the Timestamp object as the name.\u001b[0m\u001b[0;34m\u001b[0m\u001b[0;34m\u001b[0m\u001b[0m\n\u001b[1;32m   4393\u001b[0m         \u001b[0mname\u001b[0m \u001b[0;34m=\u001b[0m \u001b[0mself\u001b[0m\u001b[0;34m.\u001b[0m\u001b[0mcolumns\u001b[0m\u001b[0;34m[\u001b[0m\u001b[0mloc\u001b[0m\u001b[0;34m]\u001b[0m\u001b[0;34m\u001b[0m\u001b[0;34m\u001b[0m\u001b[0m\n\u001b[1;32m   4394\u001b[0m         \u001b[0;31m# We get index=self.index bc values is a SingleDataManager\u001b[0m\u001b[0;34m\u001b[0m\u001b[0;34m\u001b[0m\u001b[0m\n\u001b[0;32m-> 4395\u001b[0;31m         \u001b[0mobj\u001b[0m \u001b[0;34m=\u001b[0m \u001b[0mself\u001b[0m\u001b[0;34m.\u001b[0m\u001b[0m_constructor_sliced_from_mgr\u001b[0m\u001b[0;34m(\u001b[0m\u001b[0mvalues\u001b[0m\u001b[0;34m,\u001b[0m \u001b[0maxes\u001b[0m\u001b[0;34m=\u001b[0m\u001b[0mvalues\u001b[0m\u001b[0;34m.\u001b[0m\u001b[0maxes\u001b[0m\u001b[0;34m)\u001b[0m\u001b[0;34m\u001b[0m\u001b[0;34m\u001b[0m\u001b[0m\n\u001b[0m\u001b[1;32m   4396\u001b[0m         \u001b[0mobj\u001b[0m\u001b[0;34m.\u001b[0m\u001b[0m_name\u001b[0m \u001b[0;34m=\u001b[0m \u001b[0mname\u001b[0m\u001b[0;34m\u001b[0m\u001b[0;34m\u001b[0m\u001b[0m\n\u001b[1;32m   4397\u001b[0m         \u001b[0;32mreturn\u001b[0m \u001b[0mobj\u001b[0m\u001b[0;34m.\u001b[0m\u001b[0m__finalize__\u001b[0m\u001b[0;34m(\u001b[0m\u001b[0mself\u001b[0m\u001b[0;34m)\u001b[0m\u001b[0;34m\u001b[0m\u001b[0;34m\u001b[0m\u001b[0m\n",
      "\u001b[0;32m~/.local/lib/python3.10/site-packages/pandas/core/frame.py\u001b[0m in \u001b[0;36m?\u001b[0;34m(self, mgr, axes)\u001b[0m\n\u001b[1;32m    656\u001b[0m     \u001b[0;32mdef\u001b[0m \u001b[0m_constructor_sliced_from_mgr\u001b[0m\u001b[0;34m(\u001b[0m\u001b[0mself\u001b[0m\u001b[0;34m,\u001b[0m \u001b[0mmgr\u001b[0m\u001b[0;34m,\u001b[0m \u001b[0maxes\u001b[0m\u001b[0;34m)\u001b[0m\u001b[0;34m:\u001b[0m\u001b[0;34m\u001b[0m\u001b[0;34m\u001b[0m\u001b[0m\n\u001b[0;32m--> 657\u001b[0;31m         \u001b[0mser\u001b[0m \u001b[0;34m=\u001b[0m \u001b[0mself\u001b[0m\u001b[0;34m.\u001b[0m\u001b[0m_sliced_from_mgr\u001b[0m\u001b[0;34m(\u001b[0m\u001b[0mmgr\u001b[0m\u001b[0;34m,\u001b[0m \u001b[0maxes\u001b[0m\u001b[0;34m=\u001b[0m\u001b[0maxes\u001b[0m\u001b[0;34m)\u001b[0m\u001b[0;34m\u001b[0m\u001b[0;34m\u001b[0m\u001b[0m\n\u001b[0m\u001b[1;32m    658\u001b[0m         \u001b[0mser\u001b[0m\u001b[0;34m.\u001b[0m\u001b[0m_name\u001b[0m \u001b[0;34m=\u001b[0m \u001b[0;32mNone\u001b[0m  \u001b[0;31m# caller is responsible for setting real name\u001b[0m\u001b[0;34m\u001b[0m\u001b[0;34m\u001b[0m\u001b[0m\n\u001b[1;32m    659\u001b[0m         \u001b[0;32mif\u001b[0m \u001b[0mtype\u001b[0m\u001b[0;34m(\u001b[0m\u001b[0mself\u001b[0m\u001b[0;34m)\u001b[0m \u001b[0;32mis\u001b[0m \u001b[0mDataFrame\u001b[0m\u001b[0;34m:\u001b[0m\u001b[0;34m\u001b[0m\u001b[0;34m\u001b[0m\u001b[0m\n\u001b[1;32m    660\u001b[0m             \u001b[0;31m# fastpath avoiding constructor call\u001b[0m\u001b[0;34m\u001b[0m\u001b[0;34m\u001b[0m\u001b[0m\n",
      "\u001b[0;32m~/.local/lib/python3.10/site-packages/pandas/core/frame.py\u001b[0m in \u001b[0;36m?\u001b[0;34m(self, mgr, axes)\u001b[0m\n\u001b[1;32m    653\u001b[0m     \u001b[0;32mdef\u001b[0m \u001b[0m_sliced_from_mgr\u001b[0m\u001b[0;34m(\u001b[0m\u001b[0mself\u001b[0m\u001b[0;34m,\u001b[0m \u001b[0mmgr\u001b[0m\u001b[0;34m,\u001b[0m \u001b[0maxes\u001b[0m\u001b[0;34m)\u001b[0m \u001b[0;34m->\u001b[0m \u001b[0mSeries\u001b[0m\u001b[0;34m:\u001b[0m\u001b[0;34m\u001b[0m\u001b[0;34m\u001b[0m\u001b[0m\n\u001b[0;32m--> 654\u001b[0;31m         \u001b[0;32mreturn\u001b[0m \u001b[0mSeries\u001b[0m\u001b[0;34m.\u001b[0m\u001b[0m_from_mgr\u001b[0m\u001b[0;34m(\u001b[0m\u001b[0mmgr\u001b[0m\u001b[0;34m,\u001b[0m \u001b[0maxes\u001b[0m\u001b[0;34m)\u001b[0m\u001b[0;34m\u001b[0m\u001b[0;34m\u001b[0m\u001b[0m\n\u001b[0m",
      "\u001b[0;32m~/.local/lib/python3.10/site-packages/pandas/core/generic.py\u001b[0m in \u001b[0;36m?\u001b[0;34m(cls, mgr, axes)\u001b[0m\n\u001b[0;32m--> 335\u001b[0;31m     \u001b[0;34m@\u001b[0m\u001b[0mclassmethod\u001b[0m\u001b[0;34m\u001b[0m\u001b[0;34m\u001b[0m\u001b[0m\n\u001b[0m\u001b[1;32m    336\u001b[0m     \u001b[0;32mdef\u001b[0m \u001b[0m_from_mgr\u001b[0m\u001b[0;34m(\u001b[0m\u001b[0mcls\u001b[0m\u001b[0;34m,\u001b[0m \u001b[0mmgr\u001b[0m\u001b[0;34m:\u001b[0m \u001b[0mManager\u001b[0m\u001b[0;34m,\u001b[0m \u001b[0maxes\u001b[0m\u001b[0;34m:\u001b[0m \u001b[0mlist\u001b[0m\u001b[0;34m[\u001b[0m\u001b[0mIndex\u001b[0m\u001b[0;34m]\u001b[0m\u001b[0;34m)\u001b[0m \u001b[0;34m->\u001b[0m \u001b[0mSelf\u001b[0m\u001b[0;34m:\u001b[0m\u001b[0;34m\u001b[0m\u001b[0;34m\u001b[0m\u001b[0m\n\u001b[1;32m    337\u001b[0m         \"\"\"\n\u001b[1;32m    338\u001b[0m         \u001b[0mConstruct\u001b[0m \u001b[0ma\u001b[0m \u001b[0mnew\u001b[0m \u001b[0mobject\u001b[0m \u001b[0mof\u001b[0m \u001b[0mthis\u001b[0m \u001b[0mtype\u001b[0m \u001b[0;32mfrom\u001b[0m \u001b[0ma\u001b[0m \u001b[0mManager\u001b[0m \u001b[0mobject\u001b[0m \u001b[0;32mand\u001b[0m \u001b[0maxes\u001b[0m\u001b[0;34m.\u001b[0m\u001b[0;34m\u001b[0m\u001b[0;34m\u001b[0m\u001b[0m\n",
      "\u001b[0;31mKeyboardInterrupt\u001b[0m: "
     ]
    }
   ],
   "source": [
    "# Create a dictionary to store the tags for each user with initial rating of 0\n",
    "user_tags = {user: {tag: 0 for tag in unique_tags} for user in users}\n",
    "number_appeared = copy.deepcopy(user_tags)\n",
    "\n",
    "# Iterate over the interactions data to update the user_tags dictionary\n",
    "for index, row in interactions.iterrows():\n",
    "    user_id = row['user_id']\n",
    "    recipe_id = row['recipe_id']\n",
    "    rating = row['rating']\n",
    "    recipe_tags = recipes[recipes['id'] == recipe_id]['tags'].values[0]\n",
    "    recipe_tags = recipe_tags.strip('[]').replace(\"'\", \"\").split(', ')\n",
    "    for tag in recipe_tags:\n",
    "        cleaned_tag = tag.strip()\n",
    "        if cleaned_tag:\n",
    "            user_tags[user_id][cleaned_tag] += rating\n",
    "            number_appeared[user_id][cleaned_tag] += 1\n",
    "\n",
    "\n",
    "# Get Average rating for each tag\n",
    "for user in user_tags:\n",
    "    for tag in user_tags[user]:\n",
    "        if number_appeared[user][tag] > 0:\n",
    "            user_tags[user][tag] /= number_appeared[user][tag]\n",
    "\n",
    "\n",
    "print(user_tags[38094])\n"
   ]
  }
 ],
 "metadata": {
  "kernelspec": {
   "display_name": "Python 3",
   "language": "python",
   "name": "python3"
  },
  "language_info": {
   "codemirror_mode": {
    "name": "ipython",
    "version": 3
   },
   "file_extension": ".py",
   "mimetype": "text/x-python",
   "name": "python",
   "nbconvert_exporter": "python",
   "pygments_lexer": "ipython3",
   "version": "3.10.12"
  }
 },
 "nbformat": 4,
 "nbformat_minor": 2
}
