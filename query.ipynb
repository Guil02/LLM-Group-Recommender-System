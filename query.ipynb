{
 "cells": [
  {
   "cell_type": "markdown",
   "metadata": {},
   "source": [
    "Get Preference Order"
   ]
  },
  {
   "cell_type": "code",
   "execution_count": 1,
   "metadata": {},
   "outputs": [],
   "source": [
    "from itertools import combinations\n",
    "\n",
    "MIN_NUMBER = 1\n",
    "\n",
    "def all_subsets_ordered(input_dict):\n",
    "    # Extract keys from the dictionary and convert them into a list\n",
    "    input_list = list(input_dict.keys())\n",
    "    \n",
    "    subsets = []\n",
    "    # Generate all combinations for each possible size starting from 2 to include only subsets of size greater than 1\n",
    "    for r in range(2, len(input_list) + 1):\n",
    "        for combo in combinations(input_list, r):\n",
    "            subsets.append(list(combo))\n",
    "    \n",
    "    # Sort subsets by the size (descending) and then lexicographically to maintain initial order\n",
    "    subsets.sort(key=lambda x: (-len(x), x))\n",
    "    return subsets\n"
   ]
  },
  {
   "cell_type": "markdown",
   "metadata": {},
   "source": [
    "Get Tags List and User List"
   ]
  },
  {
   "cell_type": "code",
   "execution_count": 3,
   "metadata": {},
   "outputs": [
    {
     "ename": "ImportError",
     "evalue": "dlopen(/Users/alexanderleonidas/miniconda3/lib/python3.11/lib-dynload/cmath.cpython-311-darwin.so, 0x0002): symbol not found in flat namespace '__PyModule_Add'",
     "output_type": "error",
     "traceback": [
      "\u001b[0;31m---------------------------------------------------------------------------\u001b[0m",
      "\u001b[0;31mImportError\u001b[0m                               Traceback (most recent call last)",
      "Cell \u001b[0;32mIn[3], line 1\u001b[0m\n\u001b[0;32m----> 1\u001b[0m \u001b[38;5;28;01mimport\u001b[39;00m \u001b[38;5;21;01mpandas\u001b[39;00m \u001b[38;5;28;01mas\u001b[39;00m \u001b[38;5;21;01mpd\u001b[39;00m\n\u001b[1;32m      2\u001b[0m \u001b[38;5;28;01mimport\u001b[39;00m \u001b[38;5;21;01mcopy\u001b[39;00m\n\u001b[1;32m      4\u001b[0m \u001b[38;5;66;03m# Load the recipes and interactions data\u001b[39;00m\n",
      "File \u001b[0;32m~/miniconda3/lib/python3.11/site-packages/pandas/__init__.py:136\u001b[0m\n\u001b[1;32m    118\u001b[0m \u001b[38;5;28;01mfrom\u001b[39;00m \u001b[38;5;21;01mpandas\u001b[39;00m\u001b[38;5;21;01m.\u001b[39;00m\u001b[38;5;21;01mcore\u001b[39;00m\u001b[38;5;21;01m.\u001b[39;00m\u001b[38;5;21;01mreshape\u001b[39;00m\u001b[38;5;21;01m.\u001b[39;00m\u001b[38;5;21;01mapi\u001b[39;00m \u001b[38;5;28;01mimport\u001b[39;00m (\n\u001b[1;32m    119\u001b[0m     concat,\n\u001b[1;32m    120\u001b[0m     lreshape,\n\u001b[0;32m   (...)\u001b[0m\n\u001b[1;32m    132\u001b[0m     qcut,\n\u001b[1;32m    133\u001b[0m )\n\u001b[1;32m    135\u001b[0m \u001b[38;5;28;01mfrom\u001b[39;00m \u001b[38;5;21;01mpandas\u001b[39;00m \u001b[38;5;28;01mimport\u001b[39;00m api, arrays, errors, io, plotting, tseries\n\u001b[0;32m--> 136\u001b[0m \u001b[38;5;28;01mfrom\u001b[39;00m \u001b[38;5;21;01mpandas\u001b[39;00m \u001b[38;5;28;01mimport\u001b[39;00m testing\n\u001b[1;32m    137\u001b[0m \u001b[38;5;28;01mfrom\u001b[39;00m \u001b[38;5;21;01mpandas\u001b[39;00m\u001b[38;5;21;01m.\u001b[39;00m\u001b[38;5;21;01mutil\u001b[39;00m\u001b[38;5;21;01m.\u001b[39;00m\u001b[38;5;21;01m_print_versions\u001b[39;00m \u001b[38;5;28;01mimport\u001b[39;00m show_versions\n\u001b[1;32m    139\u001b[0m \u001b[38;5;28;01mfrom\u001b[39;00m \u001b[38;5;21;01mpandas\u001b[39;00m\u001b[38;5;21;01m.\u001b[39;00m\u001b[38;5;21;01mio\u001b[39;00m\u001b[38;5;21;01m.\u001b[39;00m\u001b[38;5;21;01mapi\u001b[39;00m \u001b[38;5;28;01mimport\u001b[39;00m (\n\u001b[1;32m    140\u001b[0m     \u001b[38;5;66;03m# excel\u001b[39;00m\n\u001b[1;32m    141\u001b[0m     ExcelFile,\n\u001b[0;32m   (...)\u001b[0m\n\u001b[1;32m    169\u001b[0m     read_spss,\n\u001b[1;32m    170\u001b[0m )\n",
      "File \u001b[0;32m~/miniconda3/lib/python3.11/site-packages/pandas/testing.py:6\u001b[0m\n\u001b[1;32m      1\u001b[0m \u001b[38;5;124;03m\"\"\"\u001b[39;00m\n\u001b[1;32m      2\u001b[0m \u001b[38;5;124;03mPublic testing utility functions.\u001b[39;00m\n\u001b[1;32m      3\u001b[0m \u001b[38;5;124;03m\"\"\"\u001b[39;00m\n\u001b[0;32m----> 6\u001b[0m \u001b[38;5;28;01mfrom\u001b[39;00m \u001b[38;5;21;01mpandas\u001b[39;00m\u001b[38;5;21;01m.\u001b[39;00m\u001b[38;5;21;01m_testing\u001b[39;00m \u001b[38;5;28;01mimport\u001b[39;00m (\n\u001b[1;32m      7\u001b[0m     assert_extension_array_equal,\n\u001b[1;32m      8\u001b[0m     assert_frame_equal,\n\u001b[1;32m      9\u001b[0m     assert_index_equal,\n\u001b[1;32m     10\u001b[0m     assert_series_equal,\n\u001b[1;32m     11\u001b[0m )\n\u001b[1;32m     13\u001b[0m __all__ \u001b[38;5;241m=\u001b[39m [\n\u001b[1;32m     14\u001b[0m     \u001b[38;5;124m\"\u001b[39m\u001b[38;5;124massert_extension_array_equal\u001b[39m\u001b[38;5;124m\"\u001b[39m,\n\u001b[1;32m     15\u001b[0m     \u001b[38;5;124m\"\u001b[39m\u001b[38;5;124massert_frame_equal\u001b[39m\u001b[38;5;124m\"\u001b[39m,\n\u001b[1;32m     16\u001b[0m     \u001b[38;5;124m\"\u001b[39m\u001b[38;5;124massert_series_equal\u001b[39m\u001b[38;5;124m\"\u001b[39m,\n\u001b[1;32m     17\u001b[0m     \u001b[38;5;124m\"\u001b[39m\u001b[38;5;124massert_index_equal\u001b[39m\u001b[38;5;124m\"\u001b[39m,\n\u001b[1;32m     18\u001b[0m ]\n",
      "File \u001b[0;32m~/miniconda3/lib/python3.11/site-packages/pandas/_testing/__init__.py:61\u001b[0m\n\u001b[1;32m     51\u001b[0m \u001b[38;5;28;01mfrom\u001b[39;00m \u001b[38;5;21;01mpandas\u001b[39;00m\u001b[38;5;21;01m.\u001b[39;00m\u001b[38;5;21;01m_testing\u001b[39;00m\u001b[38;5;21;01m.\u001b[39;00m\u001b[38;5;21;01m_io\u001b[39;00m \u001b[38;5;28;01mimport\u001b[39;00m (\n\u001b[1;32m     52\u001b[0m     round_trip_localpath,\n\u001b[1;32m     53\u001b[0m     round_trip_pathlib,\n\u001b[1;32m     54\u001b[0m     round_trip_pickle,\n\u001b[1;32m     55\u001b[0m     write_to_compressed,\n\u001b[1;32m     56\u001b[0m )\n\u001b[1;32m     57\u001b[0m \u001b[38;5;28;01mfrom\u001b[39;00m \u001b[38;5;21;01mpandas\u001b[39;00m\u001b[38;5;21;01m.\u001b[39;00m\u001b[38;5;21;01m_testing\u001b[39;00m\u001b[38;5;21;01m.\u001b[39;00m\u001b[38;5;21;01m_warnings\u001b[39;00m \u001b[38;5;28;01mimport\u001b[39;00m (\n\u001b[1;32m     58\u001b[0m     assert_produces_warning,\n\u001b[1;32m     59\u001b[0m     maybe_produces_warning,\n\u001b[1;32m     60\u001b[0m )\n\u001b[0;32m---> 61\u001b[0m \u001b[38;5;28;01mfrom\u001b[39;00m \u001b[38;5;21;01mpandas\u001b[39;00m\u001b[38;5;21;01m.\u001b[39;00m\u001b[38;5;21;01m_testing\u001b[39;00m\u001b[38;5;21;01m.\u001b[39;00m\u001b[38;5;21;01masserters\u001b[39;00m \u001b[38;5;28;01mimport\u001b[39;00m (\n\u001b[1;32m     62\u001b[0m     assert_almost_equal,\n\u001b[1;32m     63\u001b[0m     assert_attr_equal,\n\u001b[1;32m     64\u001b[0m     assert_categorical_equal,\n\u001b[1;32m     65\u001b[0m     assert_class_equal,\n\u001b[1;32m     66\u001b[0m     assert_contains_all,\n\u001b[1;32m     67\u001b[0m     assert_copy,\n\u001b[1;32m     68\u001b[0m     assert_datetime_array_equal,\n\u001b[1;32m     69\u001b[0m     assert_dict_equal,\n\u001b[1;32m     70\u001b[0m     assert_equal,\n\u001b[1;32m     71\u001b[0m     assert_extension_array_equal,\n\u001b[1;32m     72\u001b[0m     assert_frame_equal,\n\u001b[1;32m     73\u001b[0m     assert_index_equal,\n\u001b[1;32m     74\u001b[0m     assert_indexing_slices_equivalent,\n\u001b[1;32m     75\u001b[0m     assert_interval_array_equal,\n\u001b[1;32m     76\u001b[0m     assert_is_sorted,\n\u001b[1;32m     77\u001b[0m     assert_is_valid_plot_return_object,\n\u001b[1;32m     78\u001b[0m     assert_metadata_equivalent,\n\u001b[1;32m     79\u001b[0m     assert_numpy_array_equal,\n\u001b[1;32m     80\u001b[0m     assert_period_array_equal,\n\u001b[1;32m     81\u001b[0m     assert_series_equal,\n\u001b[1;32m     82\u001b[0m     assert_sp_array_equal,\n\u001b[1;32m     83\u001b[0m     assert_timedelta_array_equal,\n\u001b[1;32m     84\u001b[0m     raise_assert_detail,\n\u001b[1;32m     85\u001b[0m )\n\u001b[1;32m     86\u001b[0m \u001b[38;5;28;01mfrom\u001b[39;00m \u001b[38;5;21;01mpandas\u001b[39;00m\u001b[38;5;21;01m.\u001b[39;00m\u001b[38;5;21;01m_testing\u001b[39;00m\u001b[38;5;21;01m.\u001b[39;00m\u001b[38;5;21;01mcompat\u001b[39;00m \u001b[38;5;28;01mimport\u001b[39;00m (\n\u001b[1;32m     87\u001b[0m     get_dtype,\n\u001b[1;32m     88\u001b[0m     get_obj,\n\u001b[1;32m     89\u001b[0m )\n\u001b[1;32m     90\u001b[0m \u001b[38;5;28;01mfrom\u001b[39;00m \u001b[38;5;21;01mpandas\u001b[39;00m\u001b[38;5;21;01m.\u001b[39;00m\u001b[38;5;21;01m_testing\u001b[39;00m\u001b[38;5;21;01m.\u001b[39;00m\u001b[38;5;21;01mcontexts\u001b[39;00m \u001b[38;5;28;01mimport\u001b[39;00m (\n\u001b[1;32m     91\u001b[0m     decompress_file,\n\u001b[1;32m     92\u001b[0m     ensure_clean,\n\u001b[0;32m   (...)\u001b[0m\n\u001b[1;32m     96\u001b[0m     with_csv_dialect,\n\u001b[1;32m     97\u001b[0m )\n",
      "File \u001b[0;32m~/miniconda3/lib/python3.11/site-packages/pandas/_testing/asserters.py:14\u001b[0m\n\u001b[1;32m     12\u001b[0m \u001b[38;5;28;01mfrom\u001b[39;00m \u001b[38;5;21;01mpandas\u001b[39;00m\u001b[38;5;21;01m.\u001b[39;00m\u001b[38;5;21;01m_libs\u001b[39;00m\u001b[38;5;21;01m.\u001b[39;00m\u001b[38;5;21;01mmissing\u001b[39;00m \u001b[38;5;28;01mimport\u001b[39;00m is_matching_na\n\u001b[1;32m     13\u001b[0m \u001b[38;5;28;01mfrom\u001b[39;00m \u001b[38;5;21;01mpandas\u001b[39;00m\u001b[38;5;21;01m.\u001b[39;00m\u001b[38;5;21;01m_libs\u001b[39;00m\u001b[38;5;21;01m.\u001b[39;00m\u001b[38;5;21;01msparse\u001b[39;00m \u001b[38;5;28;01mimport\u001b[39;00m SparseIndex\n\u001b[0;32m---> 14\u001b[0m \u001b[38;5;28;01mimport\u001b[39;00m \u001b[38;5;21;01mpandas\u001b[39;00m\u001b[38;5;21;01m.\u001b[39;00m\u001b[38;5;21;01m_libs\u001b[39;00m\u001b[38;5;21;01m.\u001b[39;00m\u001b[38;5;21;01mtesting\u001b[39;00m \u001b[38;5;28;01mas\u001b[39;00m \u001b[38;5;21;01m_testing\u001b[39;00m\n\u001b[1;32m     15\u001b[0m \u001b[38;5;28;01mfrom\u001b[39;00m \u001b[38;5;21;01mpandas\u001b[39;00m\u001b[38;5;21;01m.\u001b[39;00m\u001b[38;5;21;01m_libs\u001b[39;00m\u001b[38;5;21;01m.\u001b[39;00m\u001b[38;5;21;01mtslibs\u001b[39;00m\u001b[38;5;21;01m.\u001b[39;00m\u001b[38;5;21;01mnp_datetime\u001b[39;00m \u001b[38;5;28;01mimport\u001b[39;00m compare_mismatched_resolutions\n\u001b[1;32m     17\u001b[0m \u001b[38;5;28;01mfrom\u001b[39;00m \u001b[38;5;21;01mpandas\u001b[39;00m\u001b[38;5;21;01m.\u001b[39;00m\u001b[38;5;21;01mcore\u001b[39;00m\u001b[38;5;21;01m.\u001b[39;00m\u001b[38;5;21;01mdtypes\u001b[39;00m\u001b[38;5;21;01m.\u001b[39;00m\u001b[38;5;21;01mcommon\u001b[39;00m \u001b[38;5;28;01mimport\u001b[39;00m (\n\u001b[1;32m     18\u001b[0m     is_bool,\n\u001b[1;32m     19\u001b[0m     is_integer_dtype,\n\u001b[0;32m   (...)\u001b[0m\n\u001b[1;32m     22\u001b[0m     needs_i8_conversion,\n\u001b[1;32m     23\u001b[0m )\n",
      "File \u001b[0;32mtesting.pyx:1\u001b[0m, in \u001b[0;36minit pandas._libs.testing\u001b[0;34m()\u001b[0m\n",
      "\u001b[0;31mImportError\u001b[0m: dlopen(/Users/alexanderleonidas/miniconda3/lib/python3.11/lib-dynload/cmath.cpython-311-darwin.so, 0x0002): symbol not found in flat namespace '__PyModule_Add'"
     ]
    }
   ],
   "source": [
    "import pandas as pd\n",
    "import copy\n",
    "\n",
    "# Load the recipes and interactions data\n",
    "recipes = pd.read_csv(\"/Users/alexanderleonidas/Documents/Maastricht University/AI Masters/Research Project LLM for Group RS/archive/cleaned_recipes_with_country.csv\")\n",
    "interactions = pd.read_csv(\"/Users/alexanderleonidas/Documents/Maastricht University/AI Masters/Research Project LLM for Group RS/archive/RAW_interactions.csv\")\n",
    "\n",
    "columns = ['time_tags', 'country_tags', 'dietary_tags', 'special_tags', 'ingredients_tags']\n",
    "\n",
    "# Extract unique tags from the dataset\n",
    "unique_tags = set()\n",
    "for name in columns:\n",
    "    for tag_list in recipes[name]:\n",
    "        # Correcting parsing based on your description that tags appear like a Python list in string format\n",
    "        tag_list = tag_list.strip('[]').replace(\"'\", \"\").split(', ')\n",
    "        for tag in tag_list:\n",
    "            cleaned_tag = tag.strip()  # Remove any leading/trailing spaces\n",
    "            if cleaned_tag:  # Ensure the tag is not empty\n",
    "                unique_tags.add(cleaned_tag)\n",
    "\n",
    "# Extract unique users from the dataset\n",
    "users = interactions['user_id'].unique()"
   ]
  },
  {
   "cell_type": "code",
   "execution_count": 3,
   "metadata": {},
   "outputs": [],
   "source": [
    "number_user_ratings = {}\n",
    "for user in interactions['user_id']:\n",
    "    if user not in number_user_ratings:\n",
    "        number_user_ratings[user] = 0\n",
    "    number_user_ratings[user] += 1\n",
    "\n",
    "# sort by descending order\n",
    "number_user_ratings = dict(sorted(number_user_ratings.items(), key=lambda item: item[1], reverse=True))\n",
    "\n",
    "# get top 200 users\n",
    "top_users = dict(list(number_user_ratings.items())[200:400])"
   ]
  },
  {
   "cell_type": "code",
   "execution_count": 4,
   "metadata": {},
   "outputs": [],
   "source": [
    "# interactions for only the top 200 users with the most recipe reviews\n",
    "filtered_interactions = interactions[interactions['user_id'].isin(top_users)]\n",
    "filtered_users = filtered_interactions['user_id'].unique()"
   ]
  },
  {
   "cell_type": "markdown",
   "metadata": {},
   "source": [
    "Make User Profiles"
   ]
  },
  {
   "cell_type": "code",
   "execution_count": 5,
   "metadata": {},
   "outputs": [],
   "source": [
    "# Create an empty dictionary to store the tags for each user\n",
    "user_tags = {user: {} for user in filtered_users}\n",
    "number_appeared = {user: {} for user in filtered_users}\n",
    "\n",
    "# Iterate over the interactions data to update the user_tags dictionary\n",
    "for name in columns:\n",
    "    for index, row in filtered_interactions.iterrows():\n",
    "        user_id = row['user_id']\n",
    "        recipe_id = row['recipe_id']\n",
    "        rating = row['rating']\n",
    "\n",
    "        # Filter the recipes DataFrame to find the tags for the current recipe_id\n",
    "        recipe_row = recipes[recipes['id'] == recipe_id]\n",
    "        \n",
    "        # Check if the recipe_row is not empty\n",
    "        if not recipe_row.empty:\n",
    "            recipe_tags = recipe_row[name].values[0]\n",
    "            recipe_tags = recipe_tags.strip('[]').replace(\"'\", \"\").split(', ')\n",
    "\n",
    "            # Process each tag and update user_tags and number_appeared dictionaries\n",
    "            for tag in recipe_tags:\n",
    "                cleaned_tag = tag.strip()\n",
    "                if cleaned_tag:\n",
    "                    if cleaned_tag not in user_tags[user_id]:\n",
    "                        user_tags[user_id][cleaned_tag] = 0\n",
    "                        number_appeared[user_id][cleaned_tag] = 0\n",
    "                    user_tags[user_id][cleaned_tag] += rating\n",
    "                    number_appeared[user_id][cleaned_tag] += 1\n",
    "\n",
    "# Calculate the average rating for each tag\n",
    "for user in user_tags:\n",
    "    for tag in user_tags[user]:\n",
    "        if number_appeared[user][tag] > 0:\n",
    "            user_tags[user][tag] /= number_appeared[user][tag]\n"
   ]
  },
  {
   "cell_type": "code",
   "execution_count": 7,
   "metadata": {},
   "outputs": [],
   "source": [
    "import random\n",
    "\n",
    "# Set maximum group size\n",
    "max_group_size = 5\n",
    "group_preferences = []\n",
    "\n",
    "# Get the list of users\n",
    "users_list = list(user_tags.keys())\n",
    "\n",
    "# Shuffle the list to ensure randomness\n",
    "random.shuffle(users_list)\n",
    "\n",
    "# Divide the shuffled list into groups of 5\n",
    "for i in range(0, len(users_list), max_group_size):\n",
    "    group = users_list[i:i + max_group_size]\n",
    "    \n",
    "    # Collect preferences for the entire group\n",
    "    group_pref = []\n",
    "    for user in group:\n",
    "        user_preferences = {tag: rating for tag, rating in user_tags[user].items()}\n",
    "        group_pref.append(user_preferences)\n",
    "    \n",
    "    # Append the group's preferences to group_preferences\n",
    "    group_preferences.append(group_pref)\n",
    "\n"
   ]
  },
  {
   "cell_type": "code",
   "execution_count": 10,
   "metadata": {},
   "outputs": [
    {
     "name": "stdout",
     "output_type": "stream",
     "text": [
      "[('kwanzaa', 5.0), ('japanese', 5.0), ('vietnamese', 5.0), ('native-american', 5.0), ('creole', 5.0), ('lebanese', 5.0), ('chicken-livers', 5.0), ('pork-loins', 5.0), ('stuffings-dressings', 5.0), ('cheesecake', 5.0), ('crab', 5.0), ('pork-sausage', 5.0), ('passover', 5.0), ('rosh-hashana', 5.0), ('stocks', 5.0), ('ontario', 5.0), ('biscotti', 5.0), ('steam', 5.0), ('candy', 5.0), ('\"wylers chicken bouillon cubes\"', 5.0)]\n",
      "[('kwanzaa', 5.0), ('japanese', 5.0), ('vietnamese', 5.0), ('native-american', 5.0), ('creole', 5.0), ('lebanese', 5.0), ('chicken-livers', 5.0), ('pork-loins', 5.0), ('stuffings-dressings', 5.0), ('cheesecake', 5.0), ('crab', 5.0), ('pork-sausage', 5.0), ('passover', 5.0), ('rosh-hashana', 5.0), ('stocks', 5.0), ('ontario', 5.0), ('biscotti', 5.0), ('steam', 5.0), ('candy', 5.0), ('\"wylers chicken bouillon cubes\"', 5.0)]\n",
      "[('4-hours-or-less', 5.0), ('30-minutes-or-less', 5.0), ('1-day-or-more', 5.0), ('canadian', 5.0), ('british-columbian', 5.0), ('mexican', 5.0), ('european', 5.0), ('italian', 5.0), ('kwanzaa', 5.0), ('chinese', 5.0), ('southern-united-states', 5.0), ('southwestern-united-states', 5.0), ('thai', 5.0), ('south-west-pacific', 5.0), ('african', 5.0), ('australian', 5.0), ('caribbean', 5.0), ('central-american', 5.0), ('english', 5.0), ('irish', 5.0)]\n"
     ]
    }
   ],
   "source": [
    "import recommender\n",
    "\n",
    "average = []\n",
    "least_misery = []\n",
    "most_pleasure = []\n",
    "\n",
    "for group in group_preferences:\n",
    "    average.append(recommender.average_recommendation(group))\n",
    "    least_misery.append(recommender.least_misery_recommendation(group))\n",
    "    most_pleasure.append(recommender.most_pleasure_recommendation(group))\n",
    "\n",
    "print(average[2])\n",
    "print(least_misery[2])\n",
    "print(most_pleasure[2])\n",
    "\n",
    "aggregations = average, least_misery, most_pleasure"
   ]
  },
  {
   "cell_type": "code",
   "execution_count": 50,
   "metadata": {},
   "outputs": [
    {
     "ename": "KeyboardInterrupt",
     "evalue": "",
     "output_type": "error",
     "traceback": [
      "\u001b[0;31m---------------------------------------------------------------------------\u001b[0m",
      "\u001b[0;31mKeyboardInterrupt\u001b[0m                         Traceback (most recent call last)",
      "Cell \u001b[0;32mIn[50], line 20\u001b[0m\n\u001b[1;32m     17\u001b[0m         recipe_ids\u001b[38;5;241m.\u001b[39mappend(recipe_id)\n\u001b[1;32m     18\u001b[0m         recipe_names\u001b[38;5;241m.\u001b[39mappend(row[\u001b[38;5;124m'\u001b[39m\u001b[38;5;124mname\u001b[39m\u001b[38;5;124m'\u001b[39m])\n\u001b[0;32m---> 20\u001b[0m recipe_tag_df \u001b[38;5;241m=\u001b[39m \u001b[43mpd\u001b[49m\u001b[38;5;241;43m.\u001b[39;49m\u001b[43mDataFrame\u001b[49m\u001b[43m(\u001b[49m\u001b[43mrecipe_tag_matrix\u001b[49m\u001b[43m)\u001b[49m\u001b[38;5;241m.\u001b[39mfillna(\u001b[38;5;241m0\u001b[39m)\n\u001b[1;32m     22\u001b[0m \u001b[38;5;66;03m# Compute similarity scores between group tags and recipes\u001b[39;00m\n\u001b[1;32m     23\u001b[0m \u001b[38;5;28;01mdef\u001b[39;00m \u001b[38;5;21mcompute_similarity\u001b[39m(group_vector, recipe_matrix):\n",
      "File \u001b[0;32m~/miniconda3/lib/python3.11/site-packages/pandas/core/frame.py:809\u001b[0m, in \u001b[0;36mDataFrame.__init__\u001b[0;34m(self, data, index, columns, dtype, copy)\u001b[0m\n\u001b[1;32m    807\u001b[0m     \u001b[38;5;28;01mif\u001b[39;00m columns \u001b[38;5;129;01mis\u001b[39;00m \u001b[38;5;129;01mnot\u001b[39;00m \u001b[38;5;28;01mNone\u001b[39;00m:\n\u001b[1;32m    808\u001b[0m         columns \u001b[38;5;241m=\u001b[39m ensure_index(columns)\n\u001b[0;32m--> 809\u001b[0m     arrays, columns, index \u001b[38;5;241m=\u001b[39m \u001b[43mnested_data_to_arrays\u001b[49m\u001b[43m(\u001b[49m\n\u001b[1;32m    810\u001b[0m \u001b[43m        \u001b[49m\u001b[38;5;66;43;03m# error: Argument 3 to \"nested_data_to_arrays\" has incompatible\u001b[39;49;00m\n\u001b[1;32m    811\u001b[0m \u001b[43m        \u001b[49m\u001b[38;5;66;43;03m# type \"Optional[Collection[Any]]\"; expected \"Optional[Index]\"\u001b[39;49;00m\n\u001b[1;32m    812\u001b[0m \u001b[43m        \u001b[49m\u001b[43mdata\u001b[49m\u001b[43m,\u001b[49m\n\u001b[1;32m    813\u001b[0m \u001b[43m        \u001b[49m\u001b[43mcolumns\u001b[49m\u001b[43m,\u001b[49m\n\u001b[1;32m    814\u001b[0m \u001b[43m        \u001b[49m\u001b[43mindex\u001b[49m\u001b[43m,\u001b[49m\u001b[43m  \u001b[49m\u001b[38;5;66;43;03m# type: ignore[arg-type]\u001b[39;49;00m\n\u001b[1;32m    815\u001b[0m \u001b[43m        \u001b[49m\u001b[43mdtype\u001b[49m\u001b[43m,\u001b[49m\n\u001b[1;32m    816\u001b[0m \u001b[43m    \u001b[49m\u001b[43m)\u001b[49m\n\u001b[1;32m    817\u001b[0m     mgr \u001b[38;5;241m=\u001b[39m arrays_to_mgr(\n\u001b[1;32m    818\u001b[0m         arrays,\n\u001b[1;32m    819\u001b[0m         columns,\n\u001b[0;32m   (...)\u001b[0m\n\u001b[1;32m    822\u001b[0m         typ\u001b[38;5;241m=\u001b[39mmanager,\n\u001b[1;32m    823\u001b[0m     )\n\u001b[1;32m    824\u001b[0m \u001b[38;5;28;01melse\u001b[39;00m:\n",
      "File \u001b[0;32m~/miniconda3/lib/python3.11/site-packages/pandas/core/internals/construction.py:520\u001b[0m, in \u001b[0;36mnested_data_to_arrays\u001b[0;34m(data, columns, index, dtype)\u001b[0m\n\u001b[1;32m    517\u001b[0m \u001b[38;5;28;01mif\u001b[39;00m is_named_tuple(data[\u001b[38;5;241m0\u001b[39m]) \u001b[38;5;129;01mand\u001b[39;00m columns \u001b[38;5;129;01mis\u001b[39;00m \u001b[38;5;28;01mNone\u001b[39;00m:\n\u001b[1;32m    518\u001b[0m     columns \u001b[38;5;241m=\u001b[39m ensure_index(data[\u001b[38;5;241m0\u001b[39m]\u001b[38;5;241m.\u001b[39m_fields)\n\u001b[0;32m--> 520\u001b[0m arrays, columns \u001b[38;5;241m=\u001b[39m \u001b[43mto_arrays\u001b[49m\u001b[43m(\u001b[49m\u001b[43mdata\u001b[49m\u001b[43m,\u001b[49m\u001b[43m \u001b[49m\u001b[43mcolumns\u001b[49m\u001b[43m,\u001b[49m\u001b[43m \u001b[49m\u001b[43mdtype\u001b[49m\u001b[38;5;241;43m=\u001b[39;49m\u001b[43mdtype\u001b[49m\u001b[43m)\u001b[49m\n\u001b[1;32m    521\u001b[0m columns \u001b[38;5;241m=\u001b[39m ensure_index(columns)\n\u001b[1;32m    523\u001b[0m \u001b[38;5;28;01mif\u001b[39;00m index \u001b[38;5;129;01mis\u001b[39;00m \u001b[38;5;28;01mNone\u001b[39;00m:\n",
      "File \u001b[0;32m~/miniconda3/lib/python3.11/site-packages/pandas/core/internals/construction.py:845\u001b[0m, in \u001b[0;36mto_arrays\u001b[0;34m(data, columns, dtype)\u001b[0m\n\u001b[1;32m    842\u001b[0m     data \u001b[38;5;241m=\u001b[39m [\u001b[38;5;28mtuple\u001b[39m(x) \u001b[38;5;28;01mfor\u001b[39;00m x \u001b[38;5;129;01min\u001b[39;00m data]\n\u001b[1;32m    843\u001b[0m     arr \u001b[38;5;241m=\u001b[39m _list_to_arrays(data)\n\u001b[0;32m--> 845\u001b[0m content, columns \u001b[38;5;241m=\u001b[39m \u001b[43m_finalize_columns_and_data\u001b[49m\u001b[43m(\u001b[49m\u001b[43marr\u001b[49m\u001b[43m,\u001b[49m\u001b[43m \u001b[49m\u001b[43mcolumns\u001b[49m\u001b[43m,\u001b[49m\u001b[43m \u001b[49m\u001b[43mdtype\u001b[49m\u001b[43m)\u001b[49m\n\u001b[1;32m    846\u001b[0m \u001b[38;5;28;01mreturn\u001b[39;00m content, columns\n",
      "File \u001b[0;32m~/miniconda3/lib/python3.11/site-packages/pandas/core/internals/construction.py:945\u001b[0m, in \u001b[0;36m_finalize_columns_and_data\u001b[0;34m(content, columns, dtype)\u001b[0m\n\u001b[1;32m    942\u001b[0m     \u001b[38;5;28;01mraise\u001b[39;00m \u001b[38;5;167;01mValueError\u001b[39;00m(err) \u001b[38;5;28;01mfrom\u001b[39;00m \u001b[38;5;21;01merr\u001b[39;00m\n\u001b[1;32m    944\u001b[0m \u001b[38;5;28;01mif\u001b[39;00m \u001b[38;5;28mlen\u001b[39m(contents) \u001b[38;5;129;01mand\u001b[39;00m contents[\u001b[38;5;241m0\u001b[39m]\u001b[38;5;241m.\u001b[39mdtype \u001b[38;5;241m==\u001b[39m np\u001b[38;5;241m.\u001b[39mobject_:\n\u001b[0;32m--> 945\u001b[0m     contents \u001b[38;5;241m=\u001b[39m \u001b[43mconvert_object_array\u001b[49m\u001b[43m(\u001b[49m\u001b[43mcontents\u001b[49m\u001b[43m,\u001b[49m\u001b[43m \u001b[49m\u001b[43mdtype\u001b[49m\u001b[38;5;241;43m=\u001b[39;49m\u001b[43mdtype\u001b[49m\u001b[43m)\u001b[49m\n\u001b[1;32m    947\u001b[0m \u001b[38;5;28;01mreturn\u001b[39;00m contents, columns\n",
      "File \u001b[0;32m~/miniconda3/lib/python3.11/site-packages/pandas/core/internals/construction.py:1068\u001b[0m, in \u001b[0;36mconvert_object_array\u001b[0;34m(content, dtype, dtype_backend, coerce_float)\u001b[0m\n\u001b[1;32m   1064\u001b[0m             arr \u001b[38;5;241m=\u001b[39m maybe_cast_to_datetime(arr, dtype)\n\u001b[1;32m   1066\u001b[0m     \u001b[38;5;28;01mreturn\u001b[39;00m arr\n\u001b[0;32m-> 1068\u001b[0m arrays \u001b[38;5;241m=\u001b[39m \u001b[43m[\u001b[49m\u001b[43mconvert\u001b[49m\u001b[43m(\u001b[49m\u001b[43marr\u001b[49m\u001b[43m)\u001b[49m\u001b[43m \u001b[49m\u001b[38;5;28;43;01mfor\u001b[39;49;00m\u001b[43m \u001b[49m\u001b[43marr\u001b[49m\u001b[43m \u001b[49m\u001b[38;5;129;43;01min\u001b[39;49;00m\u001b[43m \u001b[49m\u001b[43mcontent\u001b[49m\u001b[43m]\u001b[49m\n\u001b[1;32m   1070\u001b[0m \u001b[38;5;28;01mreturn\u001b[39;00m arrays\n",
      "File \u001b[0;32m~/miniconda3/lib/python3.11/site-packages/pandas/core/internals/construction.py:1068\u001b[0m, in \u001b[0;36m<listcomp>\u001b[0;34m(.0)\u001b[0m\n\u001b[1;32m   1064\u001b[0m             arr \u001b[38;5;241m=\u001b[39m maybe_cast_to_datetime(arr, dtype)\n\u001b[1;32m   1066\u001b[0m     \u001b[38;5;28;01mreturn\u001b[39;00m arr\n\u001b[0;32m-> 1068\u001b[0m arrays \u001b[38;5;241m=\u001b[39m [\u001b[43mconvert\u001b[49m\u001b[43m(\u001b[49m\u001b[43marr\u001b[49m\u001b[43m)\u001b[49m \u001b[38;5;28;01mfor\u001b[39;00m arr \u001b[38;5;129;01min\u001b[39;00m content]\n\u001b[1;32m   1070\u001b[0m \u001b[38;5;28;01mreturn\u001b[39;00m arrays\n",
      "File \u001b[0;32m~/miniconda3/lib/python3.11/site-packages/pandas/core/internals/construction.py:1030\u001b[0m, in \u001b[0;36mconvert_object_array.<locals>.convert\u001b[0;34m(arr)\u001b[0m\n\u001b[1;32m   1028\u001b[0m \u001b[38;5;28;01mdef\u001b[39;00m \u001b[38;5;21mconvert\u001b[39m(arr):\n\u001b[1;32m   1029\u001b[0m     \u001b[38;5;28;01mif\u001b[39;00m dtype \u001b[38;5;241m!=\u001b[39m np\u001b[38;5;241m.\u001b[39mdtype(\u001b[38;5;124m\"\u001b[39m\u001b[38;5;124mO\u001b[39m\u001b[38;5;124m\"\u001b[39m):\n\u001b[0;32m-> 1030\u001b[0m         arr \u001b[38;5;241m=\u001b[39m \u001b[43mlib\u001b[49m\u001b[38;5;241;43m.\u001b[39;49m\u001b[43mmaybe_convert_objects\u001b[49m\u001b[43m(\u001b[49m\n\u001b[1;32m   1031\u001b[0m \u001b[43m            \u001b[49m\u001b[43marr\u001b[49m\u001b[43m,\u001b[49m\n\u001b[1;32m   1032\u001b[0m \u001b[43m            \u001b[49m\u001b[43mtry_float\u001b[49m\u001b[38;5;241;43m=\u001b[39;49m\u001b[43mcoerce_float\u001b[49m\u001b[43m,\u001b[49m\n\u001b[1;32m   1033\u001b[0m \u001b[43m            \u001b[49m\u001b[43mconvert_to_nullable_dtype\u001b[49m\u001b[38;5;241;43m=\u001b[39;49m\u001b[43mdtype_backend\u001b[49m\u001b[43m \u001b[49m\u001b[38;5;241;43m!=\u001b[39;49m\u001b[43m \u001b[49m\u001b[38;5;124;43m\"\u001b[39;49m\u001b[38;5;124;43mnumpy\u001b[39;49m\u001b[38;5;124;43m\"\u001b[39;49m\u001b[43m,\u001b[49m\n\u001b[1;32m   1034\u001b[0m \u001b[43m        \u001b[49m\u001b[43m)\u001b[49m\n\u001b[1;32m   1035\u001b[0m         \u001b[38;5;66;03m# Notes on cases that get here 2023-02-15\u001b[39;00m\n\u001b[1;32m   1036\u001b[0m         \u001b[38;5;66;03m# 1) we DO get here when arr is all Timestamps and dtype=None\u001b[39;00m\n\u001b[1;32m   1037\u001b[0m         \u001b[38;5;66;03m# 2) disabling this doesn't break the world, so this must be\u001b[39;00m\n\u001b[1;32m   1038\u001b[0m         \u001b[38;5;66;03m#    getting caught at a higher level\u001b[39;00m\n\u001b[1;32m   1039\u001b[0m         \u001b[38;5;66;03m# 3) passing convert_non_numeric to maybe_convert_objects get this right\u001b[39;00m\n\u001b[1;32m   1040\u001b[0m         \u001b[38;5;66;03m# 4) convert_non_numeric?\u001b[39;00m\n\u001b[1;32m   1042\u001b[0m         \u001b[38;5;28;01mif\u001b[39;00m dtype \u001b[38;5;129;01mis\u001b[39;00m \u001b[38;5;28;01mNone\u001b[39;00m:\n",
      "\u001b[0;31mKeyboardInterrupt\u001b[0m: "
     ]
    }
   ],
   "source": [
    "from sklearn.metrics.pairwise import cosine_similarity\n",
    "import numpy as np\n",
    "\n",
    "\n",
    "# Convert the recipe tags to a DataFrame\n",
    "recipe_tag_matrix = []\n",
    "recipe_ids = []\n",
    "recipe_names = []\n",
    "\n",
    "for index, row in recipes.iterrows():\n",
    "    for name in columns:\n",
    "        recipe_id = row['id']\n",
    "        recipe_tags = row[name].strip('[]').replace(\"'\", \"\").split(', ')\n",
    "        recipe_tags = [tag.strip() for tag in recipe_tags if tag.strip()]\n",
    "        tag_vector = {tag: 1 for tag in recipe_tags}\n",
    "        recipe_tag_matrix.append(tag_vector)\n",
    "        recipe_ids.append(recipe_id)\n",
    "        recipe_names.append(row['name'])\n",
    "\n",
    "recipe_tag_df = pd.DataFrame(recipe_tag_matrix).fillna(0)\n",
    "\n",
    "# Compute similarity scores between group tags and recipes\n",
    "def compute_similarity(group_vector, recipe_matrix):\n",
    "    group_vector = np.array(group_vector).reshape(1, -1)\n",
    "    similarity_scores = cosine_similarity(group_vector, recipe_matrix)\n",
    "    return similarity_scores.flatten()\n",
    "\n",
    "aggregations = dict(aggregations)\n",
    "\n",
    "recommendations = [[],[],[]]\n",
    "for i, method in enumerate(aggregations):\n",
    "    for group in method:\n",
    "        group_preferences = dict(group)\n",
    "        # Generate recommendations for the group based on similarity\n",
    "        group_vector = [group_preferences.get(tag, 0) for tag in recipe_tag_df.columns]\n",
    "        similarity_scores = compute_similarity(group_vector, recipe_tag_df.to_numpy())\n",
    "        recommended_indices = np.argsort(similarity_scores)[::-1]  # Sort in descending order\n",
    "        recommended_recipes = [recipe_names[idx] for idx in recommended_indices]\n",
    "        recommendations[i].append(recommended_recipes[:10])\n",
    "\n",
    "# Print top 10 recommendations for the group\n",
    "print(f\"Group recommendations: {recommended_recipes[:10]}\")"
   ]
  }
 ],
 "metadata": {
  "kernelspec": {
   "display_name": "Python 3",
   "language": "python",
   "name": "python3"
  },
  "language_info": {
   "codemirror_mode": {
    "name": "ipython",
    "version": 3
   },
   "file_extension": ".py",
   "mimetype": "text/x-python",
   "name": "python",
   "nbconvert_exporter": "python",
   "pygments_lexer": "ipython3",
   "version": "3.11.9"
  }
 },
 "nbformat": 4,
 "nbformat_minor": 2
}
