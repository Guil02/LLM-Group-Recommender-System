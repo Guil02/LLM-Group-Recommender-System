{
 "cells": [
  {
   "cell_type": "code",
   "execution_count": 1,
   "metadata": {},
   "outputs": [],
   "source": [
    "import pandas as pd\n",
    "\n",
    "data = pd.read_csv(\"C:\\\\Users\\\\Lorenzo\\\\Downloads\\\\archive (2)\\RAW_recipes.csv\")"
   ]
  },
  {
   "cell_type": "code",
   "execution_count": 2,
   "metadata": {},
   "outputs": [
    {
     "data": {
      "text/plain": "                                         name      id  minutes   \n0  arriba   baked winter squash mexican style  137739       55  \\\n1            a bit different  breakfast pizza   31490       30   \n2                   all in the kitchen  chili  112140      130   \n3                          alouette  potatoes   59389       45   \n4          amish  tomato ketchup  for canning   44061      190   \n\n   contributor_id   submitted   \n0           47892  2005-09-16  \\\n1           26278  2002-06-17   \n2          196586  2005-02-25   \n3           68585  2003-04-14   \n4           41706  2002-10-25   \n\n                                                tags   \n0  ['60-minutes-or-less', 'time-to-make', 'course...  \\\n1  ['30-minutes-or-less', 'time-to-make', 'course...   \n2  ['time-to-make', 'course', 'preparation', 'mai...   \n3  ['60-minutes-or-less', 'time-to-make', 'course...   \n4  ['weeknight', 'time-to-make', 'course', 'main-...   \n\n                                    nutrition  n_steps   \n0       [51.5, 0.0, 13.0, 0.0, 2.0, 0.0, 4.0]       11  \\\n1   [173.4, 18.0, 0.0, 17.0, 22.0, 35.0, 1.0]        9   \n2  [269.8, 22.0, 32.0, 48.0, 39.0, 27.0, 5.0]        6   \n3   [368.1, 17.0, 10.0, 2.0, 14.0, 8.0, 20.0]       11   \n4   [352.9, 1.0, 337.0, 23.0, 3.0, 0.0, 28.0]        5   \n\n                                               steps   \n0  ['make a choice and proceed with recipe', 'dep...  \\\n1  ['preheat oven to 425 degrees f', 'press dough...   \n2  ['brown ground beef in large pot', 'add choppe...   \n3  ['place potatoes in a large pot of lightly sal...   \n4  ['mix all ingredients& boil for 2 1 / 2 hours ...   \n\n                                         description   \n0  autumn is my favorite time of year to cook! th...  \\\n1  this recipe calls for the crust to be prebaked...   \n2  this modified version of 'mom's' chili was a h...   \n3  this is a super easy, great tasting, make ahea...   \n4  my dh's amish mother raised him on this recipe...   \n\n                                         ingredients  n_ingredients  \n0  ['winter squash', 'mexican seasoning', 'mixed ...              7  \n1  ['prepared pizza crust', 'sausage patty', 'egg...              6  \n2  ['ground beef', 'yellow onions', 'diced tomato...             13  \n3  ['spreadable cheese with garlic and herbs', 'n...             11  \n4  ['tomato juice', 'apple cider vinegar', 'sugar...              8  ",
      "text/html": "<div>\n<style scoped>\n    .dataframe tbody tr th:only-of-type {\n        vertical-align: middle;\n    }\n\n    .dataframe tbody tr th {\n        vertical-align: top;\n    }\n\n    .dataframe thead th {\n        text-align: right;\n    }\n</style>\n<table border=\"1\" class=\"dataframe\">\n  <thead>\n    <tr style=\"text-align: right;\">\n      <th></th>\n      <th>name</th>\n      <th>id</th>\n      <th>minutes</th>\n      <th>contributor_id</th>\n      <th>submitted</th>\n      <th>tags</th>\n      <th>nutrition</th>\n      <th>n_steps</th>\n      <th>steps</th>\n      <th>description</th>\n      <th>ingredients</th>\n      <th>n_ingredients</th>\n    </tr>\n  </thead>\n  <tbody>\n    <tr>\n      <th>0</th>\n      <td>arriba   baked winter squash mexican style</td>\n      <td>137739</td>\n      <td>55</td>\n      <td>47892</td>\n      <td>2005-09-16</td>\n      <td>['60-minutes-or-less', 'time-to-make', 'course...</td>\n      <td>[51.5, 0.0, 13.0, 0.0, 2.0, 0.0, 4.0]</td>\n      <td>11</td>\n      <td>['make a choice and proceed with recipe', 'dep...</td>\n      <td>autumn is my favorite time of year to cook! th...</td>\n      <td>['winter squash', 'mexican seasoning', 'mixed ...</td>\n      <td>7</td>\n    </tr>\n    <tr>\n      <th>1</th>\n      <td>a bit different  breakfast pizza</td>\n      <td>31490</td>\n      <td>30</td>\n      <td>26278</td>\n      <td>2002-06-17</td>\n      <td>['30-minutes-or-less', 'time-to-make', 'course...</td>\n      <td>[173.4, 18.0, 0.0, 17.0, 22.0, 35.0, 1.0]</td>\n      <td>9</td>\n      <td>['preheat oven to 425 degrees f', 'press dough...</td>\n      <td>this recipe calls for the crust to be prebaked...</td>\n      <td>['prepared pizza crust', 'sausage patty', 'egg...</td>\n      <td>6</td>\n    </tr>\n    <tr>\n      <th>2</th>\n      <td>all in the kitchen  chili</td>\n      <td>112140</td>\n      <td>130</td>\n      <td>196586</td>\n      <td>2005-02-25</td>\n      <td>['time-to-make', 'course', 'preparation', 'mai...</td>\n      <td>[269.8, 22.0, 32.0, 48.0, 39.0, 27.0, 5.0]</td>\n      <td>6</td>\n      <td>['brown ground beef in large pot', 'add choppe...</td>\n      <td>this modified version of 'mom's' chili was a h...</td>\n      <td>['ground beef', 'yellow onions', 'diced tomato...</td>\n      <td>13</td>\n    </tr>\n    <tr>\n      <th>3</th>\n      <td>alouette  potatoes</td>\n      <td>59389</td>\n      <td>45</td>\n      <td>68585</td>\n      <td>2003-04-14</td>\n      <td>['60-minutes-or-less', 'time-to-make', 'course...</td>\n      <td>[368.1, 17.0, 10.0, 2.0, 14.0, 8.0, 20.0]</td>\n      <td>11</td>\n      <td>['place potatoes in a large pot of lightly sal...</td>\n      <td>this is a super easy, great tasting, make ahea...</td>\n      <td>['spreadable cheese with garlic and herbs', 'n...</td>\n      <td>11</td>\n    </tr>\n    <tr>\n      <th>4</th>\n      <td>amish  tomato ketchup  for canning</td>\n      <td>44061</td>\n      <td>190</td>\n      <td>41706</td>\n      <td>2002-10-25</td>\n      <td>['weeknight', 'time-to-make', 'course', 'main-...</td>\n      <td>[352.9, 1.0, 337.0, 23.0, 3.0, 0.0, 28.0]</td>\n      <td>5</td>\n      <td>['mix all ingredients&amp; boil for 2 1 / 2 hours ...</td>\n      <td>my dh's amish mother raised him on this recipe...</td>\n      <td>['tomato juice', 'apple cider vinegar', 'sugar...</td>\n      <td>8</td>\n    </tr>\n  </tbody>\n</table>\n</div>"
     },
     "execution_count": 2,
     "metadata": {},
     "output_type": "execute_result"
    }
   ],
   "source": [
    "data.head()"
   ]
  },
  {
   "cell_type": "code",
   "execution_count": 47,
   "metadata": {},
   "outputs": [],
   "source": [
    "tags = data['tags'].apply(eval)\n",
    "ingredients = data['ingredients'].apply(eval)"
   ]
  },
  {
   "cell_type": "code",
   "execution_count": 48,
   "outputs": [],
   "source": [
    "all_tags_unique = tags.explode().unique()\n",
    "all_ingredients_unique = ingredients.explode().unique()"
   ],
   "metadata": {
    "collapsed": false
   }
  },
  {
   "cell_type": "code",
   "execution_count": 49,
   "outputs": [
    {
     "name": "stdout",
     "output_type": "stream",
     "text": [
      "Unique tags (552): , ['60-minutes-or-less' 'time-to-make' 'course' 'main-ingredient' 'cuisine'\n",
      " 'preparation' 'occasion' 'north-american' 'side-dishes' 'vegetables'\n",
      " 'mexican' 'easy' 'fall' 'holiday-event' 'vegetarian' 'winter' 'dietary'\n",
      " 'christmas' 'seasonal' 'squash' '30-minutes-or-less' 'breakfast'\n",
      " 'main-dish' 'pork' 'american' 'oven' 'kid-friendly' 'pizza'\n",
      " 'northeastern-united-states' 'meat' 'equipment' 'chili'\n",
      " 'crock-pot-slow-cooker' '4-hours-or-less' 'eggs-dairy' 'potatoes'\n",
      " 'dinner-party' 'easter' 'cheese' 'stove-top' 'new-years' 'thanksgiving'\n",
      " 'independence-day' 'st-patricks-day' 'valentines-day' 'inexpensive'\n",
      " 'brunch' 'superbowl' 'presentation' 'served-hot' 'weeknight' 'canning'\n",
      " 'condiments-etc' 'heirloom-historical' 'amish-mennonite'\n",
      " 'number-of-servings' 'technique' '15-minutes-or-less' 'low-protein'\n",
      " '5-ingredients-or-less' 'beverages' 'fruit' 'low-sodium' 'shakes'\n",
      " 'low-calorie' 'low-in-something' 'apples' 'served-cold' '3-steps-or-less'\n",
      " 'appetizers' 'canadian' 'vegan' 'freezer' 'south-west-pacific' 'hawaiian'\n",
      " 'spicy' 'copycat' 'pork-ribs' 'super-bowl' 'novelty' 'taste-mood'\n",
      " 'savory' 'sweet' 'pies-and-tarts' 'desserts' 'lunch' 'snacks' 'no-cook'\n",
      " 'refrigerator' 'frozen-desserts' 'pies' 'chocolate' 'breads'\n",
      " 'oamc-freezer-make-ahead' 'quick-breads' 'tropical-fruit' 'bananas'\n",
      " 'healthy' '1-day-or-more' 'comfort-food' 'berries' 'strawberries' 'beans'\n",
      " 'potluck' 'to-go' 'greens' 'collard-greens' 'pork-chops'\n",
      " 'southwestern-united-states' 'deep-fry' 'candy' 'beef' 'one-dish-meal'\n",
      " 'lactose' 'bisques-cream-soups' 'soups-stews' 'spring'\n",
      " 'food-processor-blender' 'free-of-something' 'cauliflower'\n",
      " 'small-appliance' 'beginner-cook' 'low-cholesterol' 'low-carb'\n",
      " 'healthy-2' 'spinach' 'low-saturated-fat' 'high-calcium'\n",
      " 'high-in-something' 'very-low-carbs' 'sauces' 'eggs' 'savory-sauces'\n",
      " 'asian' 'indian' 'herb-and-spice-mixes' 'cooking-mixes' 'peppers'\n",
      " 'poultry' 'chicken' 'gluten-free' 'californian' 'black-beans' 'grilling'\n",
      " 'picnic' 'cookies-and-brownies' 'bar-cookies' 'brownies' 'gifts'\n",
      " 'casseroles' 'ground-beef' 'wild-game' 'deer' 'low-fat' 'summer'\n",
      " 'toddler-friendly' 'mixer' 'clear-soups' 'salads' 'pasta'\n",
      " 'pasta-rice-and-grains' 'for-large-groups' 'muffins' 'sandwiches' 'cakes'\n",
      " 'nuts' 'pineapple' 'corn' 'german' 'european' 'yeast' 'italian' 'lasagna'\n",
      " 'omelets-and-frittatas' 'for-1-or-2' 'romantic' 'ramadan'\n",
      " 'chicken-breasts' 'diabetic' 'dips' 'barbecue' 'marinades-and-rubs'\n",
      " 'finger-food' 'infant-baby-friendly' 'roast' 'veal' 'garnishes'\n",
      " 'cheesecake' 'grains' 'wedding' 'kosher' 'high-protein' 'mushrooms'\n",
      " 'seafood' 'fish' 'tuna' 'saltwater-fish' 'elbow-macaroni'\n",
      " 'pancakes-and-waffles' 'midwestern' 'southern-united-states'\n",
      " 'chicken-thighs-legs' 'salmon' 'indonesian' 'soy-tofu' 'tempeh' 'spreads'\n",
      " 'beef-ribs' 'grapes' 'smoothies' 'bacon' 'broil' 'pacific-northwest'\n",
      " 'tomatoes' 'cocktails' 'no-shell-fish' 'squid' 'polish' 'chinese' 'steam'\n",
      " 'onions' 'british-columbian' 'broccoli' 'kwanzaa' 'meatloaf'\n",
      " 'simply-potatoes2' 'rolled-cookies' 'drop-cookies'\n",
      " 'cake-fillings-and-frostings' 'lettuces' 'stews' 'lentils' 'danish'\n",
      " 'scandinavian' 'swiss' 'swedish' 'french' 'from-scratch' 'microwave'\n",
      " 'granola-and-porridge' 'bread-machine' 'asparagus' 'gumbo' 'african'\n",
      " 'cajun' 'shrimp' 'creole' 'shellfish' 'savory-pies' 'salad-dressings'\n",
      " 'orange-roughy' 'leftovers' 'simply-potatoes' 'crab' 'mango' 'curries'\n",
      " 'egg-free' 'roast-beef' 'pork-sausage' 'brown-bag' 'turkey'\n",
      " 'whole-turkey' 'green-yellow-beans' 'beef-sausage' 'australian' 'rice'\n",
      " 'brown-rice' 'white-rice' 'long-grain-rice' 'caribbean'\n",
      " 'central-american' 'stuffings-dressings' 'english' 'spaghetti' 'coconut'\n",
      " 'quebec' 'freshwater-fish' 'catfish' 'middle-eastern' 'lebanese'\n",
      " 'ravioli-tortellini' 'steak' 'clams' 'rolls-biscuits' 'gelatin' 'greek'\n",
      " 'citrus' 'oranges' 'papaya' 'punch' 'pitted-fruit' 'peaches' 'moose'\n",
      " 'wings' 'pasta-shells' 'blueberries' 'fudge' 'celebrity' 'south-american'\n",
      " 'sweet-sauces' 'russian' 'pork-loins' 'ham' 'burgers' 'biscotti'\n",
      " 'peanut-butter' 'baja' 'halloween' 'dairy-free' 'high-fiber' 'zucchini'\n",
      " 'puddings-and-mousses' 'japanese' 'lemon' 'chick-peas-garbanzos'\n",
      " 'cobblers-and-crisps' 'lamb-sheep' 'flat-shapes' 'turkey-burgers'\n",
      " 'carrots' 'penne' 'micro-melanesia' 'yams-sweet-potatoes' 'cinco-de-mayo'\n",
      " 'native-american' 'artichoke' 'salsas' 'cupcakes' 'puerto-rican'\n",
      " 'stir-fry' 'hand-formed-cookies' 'spanish' 'steaks' 'irish' 'scones'\n",
      " 'oaxacan' 'lime' 'camping' 'thai' 'polynesian' 'melons'\n",
      " 'jewish-ashkenazi' 'hanukkah' 'rosh-hashana' 'iraqi' 'saudi-arabian'\n",
      " 'whole-chicken' 'sourdough' 'baking' 'medium-grain-rice' 'pakistani'\n",
      " 'scottish' 'chutneys' 'somalian' 'non-alcoholic' 'mardi-gras-carnival'\n",
      " 'ontario' 'raspberries' 'crusts-pastry-dough-2' 'coffee-cakes'\n",
      " 'memorial-day' 'tex-mex' 'south-african' 'passover' 'new-zealand' ''\n",
      " 'chowders' 'pressure-cooker' 'whitefish' 'halibut' 'bok-choys'\n",
      " 'pennsylvania-dutch' 'ice-cream' 'pears' 'scallops' 'pheasant'\n",
      " 'water-bath' 'stocks' 'tarts' 'chinese-new-year' 'chicken-livers'\n",
      " 'manicotti' 'szechuan' 'birthday' 'nut-free'\n",
      " 'fillings-and-frostings-chocolate' 'jams-and-preserves'\n",
      " 'unprocessed-freezer' 'cherries' 'chard' 'tilapia' 'colombian' 'welsh'\n",
      " 'short-grain-rice' 'kiwifruit' 'breakfast-eggs' 'eggs-breakfast' 'czech'\n",
      " 'filipino' 'turkey-breasts' 'cuban' 'perch' 'smoker' 'college' 'belgian'\n",
      " 'costa-rican' 'guatemalan' 'honduran' 'finnish' 'moroccan' 'a1-sauce'\n",
      " 'avocado' 'jellies' 'labor-day' 'iranian-persian' 'jewish-sephardi'\n",
      " 'dutch' 'pumpkin' 'cod' 'sole-and-flounder' 'plums' 'turkish'\n",
      " 'portuguese' 'soul' 'hungarian' 'georgian' 'brazilian' 'nigerian'\n",
      " 'ethiopian' 'fathers-day' 'sudanese' 'congolese' 'ecuadorean' 'mussels'\n",
      " 'peruvian' 'meatballs' 'egyptian' 'argentine' 'mahi-mahi' 'chilean'\n",
      " 'hidden-valley-ranch' 'dehydrator' 'crawfish' 'oatmeal' 'reynolds-wrap'\n",
      " 'malaysian' 'duck' 'rosh-hashanah' 'nepalese' 'eggplant' 'goose'\n",
      " 'icelandic' 'veggie-burgers' 'mothers-day' 'mashed-potatoes'\n",
      " 'chocolate-chip-cookies' 'vietnamese' 'elk' 'oysters' 'palestinian'\n",
      " 'rabbit' 'norwegian' 'lobster' 'main-dish-beef' 'beef-crock-pot'\n",
      " 'pot-roast' 'hunan' 'austrian' 'halloween-cocktails' 'libyan'\n",
      " 'april-fools-day' 'beef-organ-meats' 'beef-liver' 'angolan' 'korean'\n",
      " 'cantonese' 'whole-duck' 'halloween-cupcakes' 'halloween-cakes'\n",
      " 'ragu-recipe-contest' 'macaroni-and-cheese' 'trout'\n",
      " 'irish-st-patricks-day' 'bass' 'beijing' 'quail' 'pickeral'\n",
      " 'main-dish-chicken' 'bear' 'brewing' 'cambodian' 'beef-kidney'\n",
      " 'beef-sauces' 'spaghetti-sauce' 'heirloom-historical-recipes' 'pot-pie'\n",
      " 'dips-lunch-snacks' 'pressure-canning' 'main-dish-pork'\n",
      " 'pork-loins-roast' 'quiche' 'sugar-cookies' 'venezuelan' 'octopus'\n",
      " 'side-dishes-beans' 'beans-side-dishes' 'baked-beans'\n",
      " 'snacks-kid-friendly' 'snacks-sweet' 'duck-breasts' 'main-dish-pasta'\n",
      " 'pasta-salad' 'pasta-elbow-macaroni' 'namibian' 'mushroom-soup'\n",
      " 'beef-barley-soup' 'pork-crock-pot' 'crock-pot-main-dish'\n",
      " 'desserts-fruit' 'desserts-easy' 'lasagne' 'laotian' 'cabbage'\n",
      " 'prepared-potatoes' 'middle-eastern-main-dish'\n",
      " 'high-in-something-diabetic-friendly' 'dips-summer' 'black-bean-soup'\n",
      " 'bean-soup' 'served-hot-new-years' 'ham-and-bean-soup'\n",
      " 'lamb-sheep-main-dish' 'mongolian' 'for-large-groups-holiday-event'\n",
      " 'stews-poultry' 'pasta-rice-and-grains-elbow-macaroni' 'pork-loin'\n",
      " 'cranberry-sauce' 'marinara-sauce' 'breakfast-casseroles'\n",
      " 'breakfast-potatoes' 'main-dish-seafood' 'shrimp-main-dish'\n",
      " 'pumpkin-bread' 'bread-pudding'\n",
      " 'less_thansql:name_topics_of_recipegreater_than' 'chicken-crock-pot'\n",
      " 'chicken-stews' 'chicken-stew'\n",
      " 'Throw the ultimate fiesta with this sopaipillas recipe from Food.com.'\n",
      " 'roast-beef-main-dish' 'roast-beef-comfort-food']\n"
     ]
    }
   ],
   "source": [
    "print(f'Unique tags ({len(all_tags_unique)}): , {all_tags_unique}')"
   ],
   "metadata": {
    "collapsed": false
   }
  },
  {
   "cell_type": "code",
   "execution_count": 50,
   "outputs": [
    {
     "name": "stdout",
     "output_type": "stream",
     "text": [
      "Unique ingredients (14942): , ['winter squash' 'mexican seasoning' 'mixed spice' ...\n",
      " \"hunt's fire roasted diced tomatoes\" 'skinless halibut fillet'\n",
      " 'nepitella']\n"
     ]
    }
   ],
   "source": [
    "print(f'Unique ingredients ({len(all_ingredients_unique)}): , {all_ingredients_unique}')"
   ],
   "metadata": {
    "collapsed": false
   }
  },
  {
   "cell_type": "code",
   "execution_count": 80,
   "outputs": [],
   "source": [
    "from sklearn.decomposition import PCA\n",
    "import numpy as np\n",
    "import matplotlib.pyplot as plt\n",
    "import random"
   ],
   "metadata": {
    "collapsed": false
   }
  },
  {
   "cell_type": "code",
   "execution_count": 51,
   "outputs": [
    {
     "name": "stdout",
     "output_type": "stream",
     "text": [
      "Binary Tag Matrix:\n",
      "   60-minutes-or-less  time-to-make  course  main-ingredient  cuisine   \n",
      "0                   1             1       1                1        1  \\\n",
      "1                   0             1       1                1        1   \n",
      "2                   0             1       1                0        0   \n",
      "3                   1             1       1                1        0   \n",
      "4                   0             1       1                1        1   \n",
      "\n",
      "   preparation  occasion  north-american  side-dishes  vegetables  ...   \n",
      "0            1         1               1            1           1  ...  \\\n",
      "1            1         1               1            0           0  ...   \n",
      "2            1         0               0            0           0  ...   \n",
      "3            1         1               0            1           1  ...   \n",
      "4            1         1               1            0           1  ...   \n",
      "\n",
      "   shrimp-main-dish  pumpkin-bread  bread-pudding   \n",
      "0                 0              0              0  \\\n",
      "1                 0              0              0   \n",
      "2                 0              0              0   \n",
      "3                 0              0              0   \n",
      "4                 0              0              0   \n",
      "\n",
      "   less_thansql:name_topics_of_recipegreater_than  chicken-crock-pot   \n",
      "0                                               0                  0  \\\n",
      "1                                               0                  0   \n",
      "2                                               0                  0   \n",
      "3                                               0                  0   \n",
      "4                                               0                  0   \n",
      "\n",
      "   chicken-stews  chicken-stew   \n",
      "0              0             0  \\\n",
      "1              0             0   \n",
      "2              0             0   \n",
      "3              0             0   \n",
      "4              0             0   \n",
      "\n",
      "   Throw the ultimate fiesta with this sopaipillas recipe from Food.com.   \n",
      "0                                                  0                      \\\n",
      "1                                                  0                       \n",
      "2                                                  0                       \n",
      "3                                                  0                       \n",
      "4                                                  0                       \n",
      "\n",
      "   roast-beef-main-dish  roast-beef-comfort-food  \n",
      "0                     0                        0  \n",
      "1                     0                        0  \n",
      "2                     0                        0  \n",
      "3                     0                        0  \n",
      "4                     0                        0  \n",
      "\n",
      "[5 rows x 552 columns]\n"
     ]
    }
   ],
   "source": [
    "tag_matrix = pd.DataFrame(0, index=data.index, columns=all_tags_unique)\n",
    "\n",
    "for i, tags in enumerate(tags):\n",
    "    for tag in tags:\n",
    "        tag_matrix.at[i, tag] = 1\n",
    "\n",
    "print(\"Binary Tag Matrix:\")\n",
    "print(tag_matrix.head())"
   ],
   "metadata": {
    "collapsed": false
   }
  },
  {
   "cell_type": "code",
   "execution_count": 54,
   "outputs": [],
   "source": [
    "df = data.copy()\n",
    "\n",
    "pca = PCA()\n",
    "principal_components = pca.fit_transform(tag_matrix)\n",
    "cumulative_explained_variance = np.cumsum(pca.explained_variance_ratio_)"
   ],
   "metadata": {
    "collapsed": false
   }
  },
  {
   "cell_type": "code",
   "execution_count": 55,
   "outputs": [
    {
     "data": {
      "text/plain": "<Figure size 1000x600 with 1 Axes>",
      "image/png": "[encoded data removed]"
     },
     "metadata": {},
     "output_type": "display_data"
    }
   ],
   "source": [
    "# Plot the cumulative explained variance ratio\n",
    "plt.figure(figsize=(10, 6))\n",
    "plt.plot(cumulative_explained_variance, marker='o', linestyle='--')\n",
    "plt.xlabel('Number of Components')\n",
    "plt.ylabel('Cumulative Explained Variance')\n",
    "plt.title('Cumulative Explained Variance by Number of Principal Components')\n",
    "plt.grid(True)\n",
    "plt.show()"
   ],
   "metadata": {
    "collapsed": false
   }
  },
  {
   "cell_type": "code",
   "execution_count": 66,
   "outputs": [
    {
     "name": "stdout",
     "output_type": "stream",
     "text": [
      "Optimal number of components to retain 95.0% variance: 177\n"
     ]
    }
   ],
   "source": [
    "retained_variance = 0.95\n",
    "n_components_optimal = np.argmax(cumulative_explained_variance >= retained_variance) + 1\n",
    "print(f\"Optimal number of components to retain {100*retained_variance}% variance: {n_components_optimal}\")\n",
    "\n",
    "# Apply PCA with the optimal number of components\n",
    "pca_optimal = PCA(n_components=n_components_optimal)\n",
    "principal_components_optimal = pca_optimal.fit_transform(tag_matrix)\n",
    "\n",
    "# Create a DataFrame for the principal components\n",
    "pca_df = pd.DataFrame(principal_components_optimal, columns=[f'PC{i+1}' for i in range(n_components_optimal)])\n",
    "\n",
    "# Add principal components to the original DataFrame\n",
    "df = pd.concat([df, pca_df], axis=1)"
   ],
   "metadata": {
    "collapsed": false
   }
  },
  {
   "cell_type": "code",
   "execution_count": 67,
   "outputs": [
    {
     "name": "stdout",
     "output_type": "stream",
     "text": [
      "\n",
      "Principal Components (Loadings):\n",
      "                                                         PC1       PC2   \n",
      "60-minutes-or-less                                 -0.057579  0.037379  \\\n",
      "time-to-make                                        0.004882 -0.001455   \n",
      "course                                              0.004174  0.045096   \n",
      "main-ingredient                                     0.038177  0.268485   \n",
      "cuisine                                             0.040415  0.320639   \n",
      "...                                                      ...       ...   \n",
      "chicken-stews                                      -0.000005 -0.000003   \n",
      "chicken-stew                                       -0.000005 -0.000003   \n",
      "Throw the ultimate fiesta with this sopaipillas... -0.000005 -0.000007   \n",
      "roast-beef-main-dish                               -0.000006 -0.000003   \n",
      "roast-beef-comfort-food                            -0.000006 -0.000003   \n",
      "\n",
      "                                                             PC3       PC4   \n",
      "60-minutes-or-less                                 -9.811750e-02 -0.222662  \\\n",
      "time-to-make                                        1.694499e-02 -0.012260   \n",
      "course                                              2.891109e-02 -0.003263   \n",
      "main-ingredient                                    -1.607485e-01  0.038183   \n",
      "cuisine                                             3.874022e-03  0.052614   \n",
      "...                                                          ...       ...   \n",
      "chicken-stews                                      -7.257559e-06  0.000002   \n",
      "chicken-stew                                       -7.257559e-06  0.000002   \n",
      "Throw the ultimate fiesta with this sopaipillas... -8.833741e-07 -0.000003   \n",
      "roast-beef-main-dish                               -8.112845e-06  0.000002   \n",
      "roast-beef-comfort-food                            -8.112845e-06  0.000002   \n",
      "\n",
      "                                                         PC5           PC6   \n",
      "60-minutes-or-less                                 -0.051411  1.390832e-01  \\\n",
      "time-to-make                                       -0.016484  8.183329e-03   \n",
      "course                                              0.006629  6.524757e-03   \n",
      "main-ingredient                                    -0.027169  1.957089e-01   \n",
      "cuisine                                            -0.466099 -3.806968e-01   \n",
      "...                                                      ...           ...   \n",
      "chicken-stews                                       0.000003 -1.883510e-06   \n",
      "chicken-stew                                        0.000003 -1.883510e-06   \n",
      "Throw the ultimate fiesta with this sopaipillas... -0.000003 -8.679997e-07   \n",
      "roast-beef-main-dish                                0.000002 -1.098075e-06   \n",
      "roast-beef-comfort-food                             0.000002 -1.098075e-06   \n",
      "\n",
      "                                                             PC7       PC8   \n",
      "60-minutes-or-less                                  7.690363e-01  0.074765  \\\n",
      "time-to-make                                        6.181404e-03  0.019714   \n",
      "course                                              7.830327e-03 -0.012468   \n",
      "main-ingredient                                    -2.868689e-02  0.037910   \n",
      "cuisine                                             3.298987e-02  0.029819   \n",
      "...                                                          ...       ...   \n",
      "chicken-stews                                      -7.166216e-07 -0.000004   \n",
      "chicken-stew                                       -7.166216e-07 -0.000004   \n",
      "Throw the ultimate fiesta with this sopaipillas... -2.581085e-06 -0.000004   \n",
      "roast-beef-main-dish                               -2.417808e-06 -0.000005   \n",
      "roast-beef-comfort-food                            -2.417808e-06 -0.000005   \n",
      "\n",
      "                                                         PC9          PC10   \n",
      "60-minutes-or-less                                 -0.011707 -1.729353e-02  \\\n",
      "time-to-make                                        0.002400  2.432569e-03   \n",
      "course                                             -0.005324  2.265407e-02   \n",
      "main-ingredient                                     0.102058 -3.270816e-02   \n",
      "cuisine                                             0.043896  1.988587e-02   \n",
      "...                                                      ...           ...   \n",
      "chicken-stews                                      -0.000007 -2.578924e-06   \n",
      "chicken-stew                                       -0.000007 -2.578924e-06   \n",
      "Throw the ultimate fiesta with this sopaipillas... -0.000004 -1.296730e-06   \n",
      "roast-beef-main-dish                               -0.000005  1.084480e-07   \n",
      "roast-beef-comfort-food                            -0.000005  1.084480e-07   \n",
      "\n",
      "                                                    ...         PC168   \n",
      "60-minutes-or-less                                  ...  2.988847e-03  \\\n",
      "time-to-make                                        ... -4.769321e-03   \n",
      "course                                              ... -2.148304e-02   \n",
      "main-ingredient                                     ...  1.386497e-02   \n",
      "cuisine                                             ... -8.765698e-02   \n",
      "...                                                 ...           ...   \n",
      "chicken-stews                                       ...  4.223475e-05   \n",
      "chicken-stew                                        ...  4.223475e-05   \n",
      "Throw the ultimate fiesta with this sopaipillas...  ... -1.359427e-06   \n",
      "roast-beef-main-dish                                ... -8.719324e-08   \n",
      "roast-beef-comfort-food                             ... -8.719324e-08   \n",
      "\n",
      "                                                       PC169     PC170   \n",
      "60-minutes-or-less                                  0.002456 -0.003615  \\\n",
      "time-to-make                                        0.008122 -0.005181   \n",
      "course                                              0.019937 -0.000166   \n",
      "main-ingredient                                    -0.001525  0.006249   \n",
      "cuisine                                            -0.019030 -0.000542   \n",
      "...                                                      ...       ...   \n",
      "chicken-stews                                       0.000058  0.000062   \n",
      "chicken-stew                                        0.000058  0.000062   \n",
      "Throw the ultimate fiesta with this sopaipillas... -0.000006  0.000008   \n",
      "roast-beef-main-dish                               -0.000022 -0.000007   \n",
      "roast-beef-comfort-food                            -0.000022 -0.000007   \n",
      "\n",
      "                                                       PC171     PC172   \n",
      "60-minutes-or-less                                  0.005122 -0.000784  \\\n",
      "time-to-make                                        0.002414 -0.000236   \n",
      "course                                             -0.014637  0.000619   \n",
      "main-ingredient                                    -0.002981  0.004384   \n",
      "cuisine                                             0.074490 -0.059986   \n",
      "...                                                      ...       ...   \n",
      "chicken-stews                                      -0.000052  0.000080   \n",
      "chicken-stew                                       -0.000052  0.000080   \n",
      "Throw the ultimate fiesta with this sopaipillas...  0.000003 -0.000007   \n",
      "roast-beef-main-dish                                0.000008 -0.000017   \n",
      "roast-beef-comfort-food                             0.000008 -0.000017   \n",
      "\n",
      "                                                       PC173     PC174   \n",
      "60-minutes-or-less                                 -0.001130  0.005546  \\\n",
      "time-to-make                                        0.004068 -0.007422   \n",
      "course                                             -0.011054 -0.013039   \n",
      "main-ingredient                                     0.007844  0.009023   \n",
      "cuisine                                             0.116328 -0.001721   \n",
      "...                                                      ...       ...   \n",
      "chicken-stews                                      -0.000106 -0.000165   \n",
      "chicken-stew                                       -0.000106 -0.000165   \n",
      "Throw the ultimate fiesta with this sopaipillas... -0.000003 -0.000007   \n",
      "roast-beef-main-dish                                0.000011  0.000011   \n",
      "roast-beef-comfort-food                             0.000011  0.000011   \n",
      "\n",
      "                                                       PC175     PC176   \n",
      "60-minutes-or-less                                  0.004380  0.005948  \\\n",
      "time-to-make                                       -0.012692 -0.011096   \n",
      "course                                              0.014440  0.007990   \n",
      "main-ingredient                                    -0.012828  0.013985   \n",
      "cuisine                                             0.024090 -0.014829   \n",
      "...                                                      ...       ...   \n",
      "chicken-stews                                       0.000052 -0.000060   \n",
      "chicken-stew                                        0.000052 -0.000060   \n",
      "Throw the ultimate fiesta with this sopaipillas... -0.000029 -0.000007   \n",
      "roast-beef-main-dish                               -0.000073 -0.000079   \n",
      "roast-beef-comfort-food                            -0.000073 -0.000079   \n",
      "\n",
      "                                                       PC177  \n",
      "60-minutes-or-less                                  0.004173  \n",
      "time-to-make                                       -0.009790  \n",
      "course                                             -0.011400  \n",
      "main-ingredient                                     0.000370  \n",
      "cuisine                                             0.024272  \n",
      "...                                                      ...  \n",
      "chicken-stews                                      -0.000043  \n",
      "chicken-stew                                       -0.000043  \n",
      "Throw the ultimate fiesta with this sopaipillas...  0.000018  \n",
      "roast-beef-main-dish                                0.000029  \n",
      "roast-beef-comfort-food                             0.000029  \n",
      "\n",
      "[552 rows x 177 columns]\n"
     ]
    }
   ],
   "source": [
    "# Examine the PCA components (loadings)\n",
    "loadings = pd.DataFrame(pca_optimal.components_.T, index=all_tags_unique, columns=[f'PC{i+1}' for i in range(n_components_optimal)])\n",
    "\n",
    "print(\"\\nPrincipal Components (Loadings):\")\n",
    "print(loadings)"
   ],
   "metadata": {
    "collapsed": false
   }
  },
  {
   "cell_type": "code",
   "execution_count": 75,
   "outputs": [
    {
     "name": "stdout",
     "output_type": "stream",
     "text": [
      "\n",
      "Most Significant Tags for Each Filtered Principal Component (Non-Empty):\n",
      "PC1         [low-in-something]\n",
      "PC2                 [occasion]\n",
      "PC3                [main-dish]\n",
      "PC4                     [easy]\n",
      "PC5                  [cuisine]\n",
      "                 ...          \n",
      "PC168                 [easter]\n",
      "PC169                  [broil]\n",
      "PC171                  [bacon]\n",
      "PC172                    [ham]\n",
      "PC174    [chili, strawberries]\n",
      "Length: 137, dtype: object\n"
     ]
    }
   ],
   "source": [
    "# Determine a threshold for significant loadings\n",
    "threshold = 0.35  # This threshold can be adjusted based on the distribution of loadings\n",
    "# Find the most significant tags for each principal component in the filtered loadings\n",
    "significant_tags = loadings.apply(lambda x: x.index[np.abs(x) > threshold].tolist(), axis=0)\n",
    "# Remove empty lists\n",
    "significant_tags = significant_tags[significant_tags.apply(len) > 0]\n",
    "\n",
    "print(\"\\nMost Significant Tags for Each Filtered Principal Component (Non-Empty):\")\n",
    "print(significant_tags)"
   ],
   "metadata": {
    "collapsed": false
   }
  },
  {
   "cell_type": "code",
   "execution_count": 102,
   "outputs": [
    {
     "name": "stdout",
     "output_type": "stream",
     "text": [
      "PC1       low-in-something\n",
      "PC2               occasion\n",
      "PC3              main-dish\n",
      "PC4                   easy\n",
      "PC5                cuisine\n",
      "PC6                cuisine\n",
      "PC6         north-american\n",
      "PC6             vegetables\n",
      "PC7     60-minutes-or-less\n",
      "PC7     30-minutes-or-less\n",
      "PC7        4-hours-or-less\n",
      "PC8     30-minutes-or-less\n",
      "PC9              equipment\n",
      "PC10    30-minutes-or-less\n",
      "dtype: object\n",
      "I choose tag: easy\n",
      "Available recipes with tag easy: 126063\n",
      "0     ['60-minutes-or-less', 'time-to-make', 'course...\n",
      "1     ['30-minutes-or-less', 'time-to-make', 'course...\n",
      "3     ['60-minutes-or-less', 'time-to-make', 'course...\n",
      "5     ['15-minutes-or-less', 'time-to-make', 'course...\n",
      "10    ['15-minutes-or-less', 'time-to-make', 'course...\n",
      "Name: tags, dtype: object\n"
     ]
    }
   ],
   "source": [
    "top_tags = significant_tags[:10].explode()\n",
    "print(top_tags)\n",
    "chosen = random.choice(top_tags)\n",
    "print(f\"I choose tag: {chosen}\")\n",
    "available_recipes = data[df['tags'].apply(lambda x: chosen in x)]\n",
    "print(f\"Available recipes with tag {chosen}: {len(available_recipes)}\")\n",
    "print(available_recipes['tags'].head())"
   ],
   "metadata": {
    "collapsed": false
   }
  }
 ],
 "metadata": {
  "kernelspec": {
   "display_name": "base",
   "language": "python",
   "name": "python3"
  },
  "language_info": {
   "codemirror_mode": {
    "name": "ipython",
    "version": 3
   },
   "file_extension": ".py",
   "mimetype": "text/x-python",
   "name": "python",
   "nbconvert_exporter": "python",
   "pygments_lexer": "ipython3",
   "version": "3.11.4"
  }
 },
 "nbformat": 4,
 "nbformat_minor": 2
}
