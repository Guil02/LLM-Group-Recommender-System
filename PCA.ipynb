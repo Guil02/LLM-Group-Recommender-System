{
 "cells": [
  {
   "cell_type": "code",
   "execution_count": 1,
   "outputs": [],
   "source": [
    "import pandas as pd\n",
    "import numpy as np\n",
    "import random\n",
    "from sklearn.decomposition import PCA"
   ],
   "metadata": {
    "collapsed": false,
    "ExecuteTime": {
     "end_time": "2024-06-25T08:01:13.034113Z",
     "start_time": "2024-06-25T08:01:10.922696Z"
    }
   }
  },
  {
   "cell_type": "code",
   "execution_count": 2,
   "metadata": {
    "collapsed": true,
    "ExecuteTime": {
     "end_time": "2024-06-25T08:01:28.115690Z",
     "start_time": "2024-06-25T08:01:16.986775Z"
    }
   },
   "outputs": [
    {
     "name": "stdout",
     "output_type": "stream",
     "text": [
      "['60-minutes-or-less' 'time-to-make' 'course' 'main-ingredient' 'cuisine'\n",
      " 'preparation' 'occasion' 'north-american' 'side-dishes' 'vegetables'\n",
      " 'mexican' 'easy' 'fall' 'holiday-event' 'vegetarian' 'winter' 'dietary'\n",
      " 'christmas' 'seasonal' 'squash' '30-minutes-or-less' 'breakfast'\n",
      " 'main-dish' 'pork' 'american' 'oven' 'kid-friendly' 'pizza'\n",
      " 'northeastern-united-states' 'meat' 'equipment' 'chili'\n",
      " 'crock-pot-slow-cooker' '4-hours-or-less' 'eggs-dairy' 'potatoes'\n",
      " 'dinner-party' 'easter' 'cheese' 'stove-top' 'new-years' 'thanksgiving'\n",
      " 'independence-day' 'st-patricks-day' 'valentines-day' 'inexpensive'\n",
      " 'brunch' 'superbowl' 'presentation' 'served-hot' 'weeknight' 'canning'\n",
      " 'condiments-etc' 'heirloom-historical' 'amish-mennonite'\n",
      " 'number-of-servings' 'technique' '15-minutes-or-less' 'low-protein'\n",
      " '5-ingredients-or-less' 'beverages' 'fruit' 'low-sodium' 'shakes'\n",
      " 'low-calorie' 'low-in-something' 'apples' 'served-cold' '3-steps-or-less'\n",
      " 'appetizers' 'canadian' 'vegan' 'freezer' 'south-west-pacific' 'hawaiian'\n",
      " 'spicy' 'copycat' 'pork-ribs' 'super-bowl' 'novelty' 'taste-mood'\n",
      " 'savory' 'sweet' 'pies-and-tarts' 'desserts' 'lunch' 'snacks' 'no-cook'\n",
      " 'refrigerator' 'frozen-desserts' 'pies' 'chocolate' 'breads'\n",
      " 'oamc-freezer-make-ahead' 'quick-breads' 'tropical-fruit' 'bananas'\n",
      " 'healthy' '1-day-or-more' 'comfort-food' 'berries' 'strawberries' 'beans'\n",
      " 'potluck' 'to-go' 'greens' 'collard-greens' 'pork-chops'\n",
      " 'southwestern-united-states' 'deep-fry' 'candy' 'beef' 'one-dish-meal'\n",
      " 'lactose' 'bisques-cream-soups' 'soups-stews' 'spring'\n",
      " 'food-processor-blender' 'free-of-something' 'cauliflower'\n",
      " 'small-appliance' 'beginner-cook' 'low-cholesterol' 'low-carb'\n",
      " 'healthy-2' 'spinach' 'low-saturated-fat' 'high-calcium'\n",
      " 'high-in-something' 'very-low-carbs' 'sauces' 'eggs' 'savory-sauces'\n",
      " 'asian' 'indian' 'herb-and-spice-mixes' 'cooking-mixes' 'peppers'\n",
      " 'poultry' 'chicken' 'gluten-free' 'californian' 'black-beans' 'grilling'\n",
      " 'picnic' 'cookies-and-brownies' 'bar-cookies' 'brownies' 'gifts'\n",
      " 'casseroles' 'ground-beef' 'wild-game' 'deer' 'low-fat' 'summer'\n",
      " 'toddler-friendly' 'mixer' 'clear-soups' 'salads' 'pasta'\n",
      " 'pasta-rice-and-grains' 'for-large-groups' 'muffins' 'sandwiches' 'cakes'\n",
      " 'nuts' 'pineapple' 'corn' 'german' 'european' 'yeast' 'italian' 'lasagna'\n",
      " 'omelets-and-frittatas' 'for-1-or-2' 'romantic' 'ramadan'\n",
      " 'chicken-breasts' 'diabetic' 'dips' 'barbecue' 'marinades-and-rubs'\n",
      " 'finger-food' 'infant-baby-friendly' 'roast' 'veal' 'garnishes'\n",
      " 'cheesecake' 'grains' 'wedding' 'kosher' 'high-protein' 'mushrooms'\n",
      " 'seafood' 'fish' 'tuna' 'saltwater-fish' 'elbow-macaroni'\n",
      " 'pancakes-and-waffles' 'midwestern' 'southern-united-states'\n",
      " 'chicken-thighs-legs' 'salmon' 'indonesian' 'soy-tofu' 'tempeh' 'spreads'\n",
      " 'beef-ribs' 'grapes' 'smoothies' 'bacon' 'broil' 'pacific-northwest'\n",
      " 'tomatoes' 'cocktails' 'no-shell-fish' 'squid' 'polish' 'chinese' 'steam'\n",
      " 'onions' 'british-columbian' 'broccoli' 'kwanzaa' 'meatloaf'\n",
      " 'simply-potatoes2' 'rolled-cookies' 'drop-cookies'\n",
      " 'cake-fillings-and-frostings' 'lettuces' 'stews' 'lentils' 'danish'\n",
      " 'scandinavian' 'swiss' 'swedish' 'french' 'from-scratch' 'microwave'\n",
      " 'granola-and-porridge' 'bread-machine' 'asparagus' 'gumbo' 'african'\n",
      " 'cajun' 'shrimp' 'creole' 'shellfish' 'savory-pies' 'salad-dressings'\n",
      " 'orange-roughy' 'leftovers' 'simply-potatoes' 'crab' 'mango' 'curries'\n",
      " 'egg-free' 'roast-beef' 'pork-sausage' 'brown-bag' 'turkey'\n",
      " 'whole-turkey' 'green-yellow-beans' 'beef-sausage' 'australian' 'rice'\n",
      " 'brown-rice' 'white-rice' 'long-grain-rice' 'caribbean'\n",
      " 'central-american' 'stuffings-dressings' 'english' 'spaghetti' 'coconut'\n",
      " 'quebec' 'freshwater-fish' 'catfish' 'middle-eastern' 'lebanese'\n",
      " 'ravioli-tortellini' 'steak' 'clams' 'rolls-biscuits' 'gelatin' 'greek'\n",
      " 'citrus' 'oranges' 'papaya' 'punch' 'pitted-fruit' 'peaches' 'moose'\n",
      " 'wings' 'pasta-shells' 'blueberries' 'fudge' 'celebrity' 'south-american'\n",
      " 'sweet-sauces' 'russian' 'pork-loins' 'ham' 'burgers' 'biscotti'\n",
      " 'peanut-butter' 'baja' 'halloween' 'dairy-free' 'high-fiber' 'zucchini'\n",
      " 'puddings-and-mousses' 'japanese' 'lemon' 'chick-peas-garbanzos'\n",
      " 'cobblers-and-crisps' 'lamb-sheep' 'flat-shapes' 'turkey-burgers'\n",
      " 'carrots' 'penne' 'micro-melanesia' 'yams-sweet-potatoes' 'cinco-de-mayo'\n",
      " 'native-american' 'artichoke' 'salsas' 'cupcakes' 'puerto-rican'\n",
      " 'stir-fry' 'hand-formed-cookies' 'spanish' 'steaks' 'irish' 'scones'\n",
      " 'oaxacan' 'lime' 'camping' 'thai' 'polynesian' 'melons'\n",
      " 'jewish-ashkenazi' 'hanukkah' 'rosh-hashana' 'iraqi' 'saudi-arabian'\n",
      " 'whole-chicken' 'sourdough' 'baking' 'medium-grain-rice' 'pakistani'\n",
      " 'scottish' 'chutneys' 'somalian' 'non-alcoholic' 'mardi-gras-carnival'\n",
      " 'ontario' 'raspberries' 'crusts-pastry-dough-2' 'coffee-cakes'\n",
      " 'memorial-day' 'tex-mex' 'south-african' 'passover' 'new-zealand' ''\n",
      " 'chowders' 'pressure-cooker' 'whitefish' 'halibut' 'bok-choys'\n",
      " 'pennsylvania-dutch' 'ice-cream' 'pears' 'scallops' 'pheasant'\n",
      " 'water-bath' 'stocks' 'tarts' 'chinese-new-year' 'chicken-livers'\n",
      " 'manicotti' 'szechuan' 'birthday' 'nut-free'\n",
      " 'fillings-and-frostings-chocolate' 'jams-and-preserves'\n",
      " 'unprocessed-freezer' 'cherries' 'chard' 'tilapia' 'colombian' 'welsh'\n",
      " 'short-grain-rice' 'kiwifruit' 'breakfast-eggs' 'eggs-breakfast' 'czech'\n",
      " 'filipino' 'turkey-breasts' 'cuban' 'perch' 'smoker' 'college' 'belgian'\n",
      " 'costa-rican' 'guatemalan' 'honduran' 'finnish' 'moroccan' 'a1-sauce'\n",
      " 'avocado' 'jellies' 'labor-day' 'iranian-persian' 'jewish-sephardi'\n",
      " 'dutch' 'pumpkin' 'cod' 'sole-and-flounder' 'plums' 'turkish'\n",
      " 'portuguese' 'soul' 'hungarian' 'georgian' 'brazilian' 'nigerian'\n",
      " 'ethiopian' 'fathers-day' 'sudanese' 'congolese' 'ecuadorean' 'mussels'\n",
      " 'peruvian' 'meatballs' 'egyptian' 'argentine' 'mahi-mahi' 'chilean'\n",
      " 'hidden-valley-ranch' 'dehydrator' 'crawfish' 'oatmeal' 'reynolds-wrap'\n",
      " 'malaysian' 'duck' 'rosh-hashanah' 'nepalese' 'eggplant' 'goose'\n",
      " 'icelandic' 'veggie-burgers' 'mothers-day' 'mashed-potatoes'\n",
      " 'chocolate-chip-cookies' 'vietnamese' 'elk' 'oysters' 'palestinian'\n",
      " 'rabbit' 'norwegian' 'lobster' 'main-dish-beef' 'beef-crock-pot'\n",
      " 'pot-roast' 'hunan' 'austrian' 'halloween-cocktails' 'libyan'\n",
      " 'april-fools-day' 'beef-organ-meats' 'beef-liver' 'angolan' 'korean'\n",
      " 'cantonese' 'whole-duck' 'halloween-cupcakes' 'halloween-cakes'\n",
      " 'ragu-recipe-contest' 'macaroni-and-cheese' 'trout'\n",
      " 'irish-st-patricks-day' 'bass' 'beijing' 'quail' 'pickeral'\n",
      " 'main-dish-chicken' 'bear' 'brewing' 'cambodian' 'beef-kidney'\n",
      " 'beef-sauces' 'spaghetti-sauce' 'heirloom-historical-recipes' 'pot-pie'\n",
      " 'dips-lunch-snacks' 'pressure-canning' 'main-dish-pork'\n",
      " 'pork-loins-roast' 'quiche' 'sugar-cookies' 'venezuelan' 'octopus'\n",
      " 'side-dishes-beans' 'beans-side-dishes' 'baked-beans'\n",
      " 'snacks-kid-friendly' 'snacks-sweet' 'duck-breasts' 'main-dish-pasta'\n",
      " 'pasta-salad' 'pasta-elbow-macaroni' 'namibian' 'mushroom-soup'\n",
      " 'beef-barley-soup' 'pork-crock-pot' 'crock-pot-main-dish'\n",
      " 'desserts-fruit' 'desserts-easy' 'lasagne' 'laotian' 'cabbage'\n",
      " 'prepared-potatoes' 'middle-eastern-main-dish'\n",
      " 'high-in-something-diabetic-friendly' 'dips-summer' 'black-bean-soup'\n",
      " 'bean-soup' 'served-hot-new-years' 'ham-and-bean-soup'\n",
      " 'lamb-sheep-main-dish' 'mongolian' 'for-large-groups-holiday-event'\n",
      " 'stews-poultry' 'pasta-rice-and-grains-elbow-macaroni' 'pork-loin'\n",
      " 'cranberry-sauce' 'marinara-sauce' 'breakfast-casseroles'\n",
      " 'breakfast-potatoes' 'main-dish-seafood' 'shrimp-main-dish'\n",
      " 'pumpkin-bread' 'bread-pudding'\n",
      " 'less_thansql:name_topics_of_recipegreater_than' 'chicken-crock-pot'\n",
      " 'chicken-stews' 'chicken-stew'\n",
      " 'Throw the ultimate fiesta with this sopaipillas recipe from Food.com.'\n",
      " 'roast-beef-main-dish' 'roast-beef-comfort-food']\n"
     ]
    }
   ],
   "source": [
    "data = pd.read_csv(\"C:\\\\Users\\\\Lorenzo\\\\Downloads\\\\archive (2)\\RAW_recipes.csv\")\n",
    "all_tags_unique = data['tags'].apply(eval).explode().unique()"
   ]
  },
  {
   "cell_type": "code",
   "execution_count": 22,
   "outputs": [],
   "source": [
    "def perform_pca_and_select_tags(df, n_components=10, threshold=0.2, top_n=5):\n",
    "    all_tags = df['tags'].apply(eval).explode().unique()\n",
    "    print(\"All tags: \", len(all_tags), all_tags[:5])\n",
    "\n",
    "    tag_matrix = pd.DataFrame(0, index=df.index, columns=all_tags)\n",
    "\n",
    "    for i, tag in enumerate(all_tags):\n",
    "        tag_matrix.at[i, tag] = 1\n",
    "\n",
    "    # Apply PCA\n",
    "    pca_optimal = PCA(n_components=n_components)\n",
    "    optimal_components = pca_optimal.fit_transform(tag_matrix)\n",
    "    # Extract explained variance ratio\n",
    "    explained_variance_ratio = pca_optimal.explained_variance_ratio_\n",
    "\n",
    "    # Calculate cumulative explained variance\n",
    "    cumulative_explained_variance = np.cumsum(explained_variance_ratio)\n",
    "\n",
    "    print(\"Explained Variance Ratio per Component:\")\n",
    "    print(explained_variance_ratio)\n",
    "\n",
    "    print(\"Cumulative Explained Variance:\")\n",
    "    print(cumulative_explained_variance)\n",
    "\n",
    "    loadings = pd.DataFrame(pca_optimal.components_.T, index=all_tags,\n",
    "                            columns=[f'PC{i + 1}' for i in range(n_components)])\n",
    "\n",
    "    top_significant_tags = loadings.apply(\n",
    "        lambda x: sorted(x, key=lambda _tag: np.abs(loadings.at[_tag, x.name]), reverse=True)[:5])\n",
    "\n",
    "    print(\"\\nMost Significant Tags for Each Filtered Principal Component (Non-Empty):\")\n",
    "    print(top_significant_tags)\n",
    "\n",
    "    return top_significant_tags"
   ],
   "metadata": {
    "collapsed": false
   }
  },
  {
   "cell_type": "code",
   "execution_count": 19,
   "outputs": [],
   "source": [
    "def filter_recipes(df, selected_tag):\n",
    "    return df[df['tags'].apply(lambda x: selected_tag in x)]"
   ],
   "metadata": {
    "collapsed": false
   }
  },
  {
   "cell_type": "code",
   "execution_count": 20,
   "outputs": [],
   "source": [
    "def simulate_user_choices(df):\n",
    "    while df.shape[0] > 1:\n",
    "        print(f\"Available recipes = ({df.shape[0]})\")\n",
    "        # Perform PCA and select top tags\n",
    "        top_significant_tags = perform_pca_and_select_tags(df)\n",
    "        print(f\"TOP SIGNIFICANT = {top_significant_tags}\")\n",
    "\n",
    "        # If no significant tags are found, break the loop\n",
    "        if top_significant_tags.empty:\n",
    "            break\n",
    "\n",
    "        # Flatten the list of significant tags and remove duplicates\n",
    "        flattened_tags = top_significant_tags.unique()\n",
    "        print(f\"Flatten = {flattened_tags}\")\n",
    "        # If no tags are available, break the loop\n",
    "        if not flattened_tags:\n",
    "            break\n",
    "\n",
    "        # Randomly choose a tag from the top significant tags\n",
    "        selected_tag = random.choice(flattened_tags)\n",
    "        print(f\"SELECT: {selected_tag}\")\n",
    "        selected_tag.append(selected_tag)\n",
    "\n",
    "        # Filter recipes based on the selected tag\n",
    "        df = filter_recipes(df, selected_tag)\n",
    "\n",
    "    return df"
   ],
   "metadata": {
    "collapsed": false
   }
  },
  {
   "cell_type": "code",
   "execution_count": 23,
   "outputs": [
    {
     "name": "stdout",
     "output_type": "stream",
     "text": [
      "Available recipes = (231637)\n",
      "All tags:  552 ['60-minutes-or-less' 'time-to-make' 'course' 'main-ingredient' 'cuisine']\n",
      "Explained Variance Ratio per Component:\n",
      "[0.0018116 0.0018116 0.0018116 0.0018116 0.0018116 0.0018116 0.0018116\n",
      " 0.0018116 0.0018116 0.0018116]\n",
      "Cumulative Explained Variance:\n",
      "[0.0018116  0.0036232  0.00543481 0.00724641 0.00905801 0.01086961\n",
      " 0.01268121 0.01449282 0.01630442 0.01811602]\n"
     ]
    },
    {
     "ename": "KeyError",
     "evalue": "-0.04290175094320356",
     "output_type": "error",
     "traceback": [
      "\u001B[1;31m---------------------------------------------------------------------------\u001B[0m",
      "\u001B[1;31mKeyError\u001B[0m                                  Traceback (most recent call last)",
      "File \u001B[1;32m~\\AppData\\Local\\Programs\\Python\\Python310\\lib\\site-packages\\pandas\\core\\indexes\\base.py:3652\u001B[0m, in \u001B[0;36mIndex.get_loc\u001B[1;34m(self, key)\u001B[0m\n\u001B[0;32m   3651\u001B[0m \u001B[38;5;28;01mtry\u001B[39;00m:\n\u001B[1;32m-> 3652\u001B[0m     \u001B[38;5;28;01mreturn\u001B[39;00m \u001B[38;5;28;43mself\u001B[39;49m\u001B[38;5;241;43m.\u001B[39;49m\u001B[43m_engine\u001B[49m\u001B[38;5;241;43m.\u001B[39;49m\u001B[43mget_loc\u001B[49m\u001B[43m(\u001B[49m\u001B[43mcasted_key\u001B[49m\u001B[43m)\u001B[49m\n\u001B[0;32m   3653\u001B[0m \u001B[38;5;28;01mexcept\u001B[39;00m \u001B[38;5;167;01mKeyError\u001B[39;00m \u001B[38;5;28;01mas\u001B[39;00m err:\n",
      "File \u001B[1;32m~\\AppData\\Local\\Programs\\Python\\Python310\\lib\\site-packages\\pandas\\_libs\\index.pyx:147\u001B[0m, in \u001B[0;36mpandas._libs.index.IndexEngine.get_loc\u001B[1;34m()\u001B[0m\n",
      "File \u001B[1;32m~\\AppData\\Local\\Programs\\Python\\Python310\\lib\\site-packages\\pandas\\_libs\\index.pyx:176\u001B[0m, in \u001B[0;36mpandas._libs.index.IndexEngine.get_loc\u001B[1;34m()\u001B[0m\n",
      "File \u001B[1;32mpandas\\_libs\\hashtable_class_helper.pxi:7080\u001B[0m, in \u001B[0;36mpandas._libs.hashtable.PyObjectHashTable.get_item\u001B[1;34m()\u001B[0m\n",
      "File \u001B[1;32mpandas\\_libs\\hashtable_class_helper.pxi:7088\u001B[0m, in \u001B[0;36mpandas._libs.hashtable.PyObjectHashTable.get_item\u001B[1;34m()\u001B[0m\n",
      "\u001B[1;31mKeyError\u001B[0m: -0.04290175094320356",
      "\nThe above exception was the direct cause of the following exception:\n",
      "\u001B[1;31mKeyError\u001B[0m                                  Traceback (most recent call last)",
      "Cell \u001B[1;32mIn[23], line 1\u001B[0m\n\u001B[1;32m----> 1\u001B[0m available_recipes \u001B[38;5;241m=\u001B[39m \u001B[43msimulate_user_choices\u001B[49m\u001B[43m(\u001B[49m\u001B[43mdata\u001B[49m\u001B[43m)\u001B[49m\n",
      "Cell \u001B[1;32mIn[20], line 5\u001B[0m, in \u001B[0;36msimulate_user_choices\u001B[1;34m(df)\u001B[0m\n\u001B[0;32m      3\u001B[0m \u001B[38;5;28mprint\u001B[39m(\u001B[38;5;124mf\u001B[39m\u001B[38;5;124m\"\u001B[39m\u001B[38;5;124mAvailable recipes = (\u001B[39m\u001B[38;5;132;01m{\u001B[39;00mdf\u001B[38;5;241m.\u001B[39mshape[\u001B[38;5;241m0\u001B[39m]\u001B[38;5;132;01m}\u001B[39;00m\u001B[38;5;124m)\u001B[39m\u001B[38;5;124m\"\u001B[39m)\n\u001B[0;32m      4\u001B[0m \u001B[38;5;66;03m# Perform PCA and select top tags\u001B[39;00m\n\u001B[1;32m----> 5\u001B[0m top_significant_tags \u001B[38;5;241m=\u001B[39m \u001B[43mperform_pca_and_select_tags\u001B[49m\u001B[43m(\u001B[49m\u001B[43mdf\u001B[49m\u001B[43m)\u001B[49m\n\u001B[0;32m      6\u001B[0m \u001B[38;5;28mprint\u001B[39m(\u001B[38;5;124mf\u001B[39m\u001B[38;5;124m\"\u001B[39m\u001B[38;5;124mTOP SIGNIFICANT = \u001B[39m\u001B[38;5;132;01m{\u001B[39;00mtop_significant_tags\u001B[38;5;132;01m}\u001B[39;00m\u001B[38;5;124m\"\u001B[39m)\n\u001B[0;32m      8\u001B[0m \u001B[38;5;66;03m# If no significant tags are found, break the loop\u001B[39;00m\n",
      "Cell \u001B[1;32mIn[22], line 28\u001B[0m, in \u001B[0;36mperform_pca_and_select_tags\u001B[1;34m(df, n_components, threshold, top_n)\u001B[0m\n\u001B[0;32m     24\u001B[0m \u001B[38;5;28mprint\u001B[39m(cumulative_explained_variance)\n\u001B[0;32m     26\u001B[0m loadings \u001B[38;5;241m=\u001B[39m pd\u001B[38;5;241m.\u001B[39mDataFrame(pca_optimal\u001B[38;5;241m.\u001B[39mcomponents_\u001B[38;5;241m.\u001B[39mT, index\u001B[38;5;241m=\u001B[39mall_tags, columns\u001B[38;5;241m=\u001B[39m[\u001B[38;5;124mf\u001B[39m\u001B[38;5;124m'\u001B[39m\u001B[38;5;124mPC\u001B[39m\u001B[38;5;132;01m{\u001B[39;00mi\u001B[38;5;241m+\u001B[39m\u001B[38;5;241m1\u001B[39m\u001B[38;5;132;01m}\u001B[39;00m\u001B[38;5;124m'\u001B[39m \u001B[38;5;28;01mfor\u001B[39;00m i \u001B[38;5;129;01min\u001B[39;00m \u001B[38;5;28mrange\u001B[39m(n_components)])\n\u001B[1;32m---> 28\u001B[0m top_significant_tags \u001B[38;5;241m=\u001B[39m \u001B[43mloadings\u001B[49m\u001B[38;5;241;43m.\u001B[39;49m\u001B[43mapply\u001B[49m\u001B[43m(\u001B[49m\u001B[38;5;28;43;01mlambda\u001B[39;49;00m\u001B[43m \u001B[49m\u001B[43mx\u001B[49m\u001B[43m:\u001B[49m\u001B[43m \u001B[49m\u001B[38;5;28;43msorted\u001B[39;49m\u001B[43m(\u001B[49m\u001B[43mx\u001B[49m\u001B[43m,\u001B[49m\u001B[43m \u001B[49m\u001B[43mkey\u001B[49m\u001B[38;5;241;43m=\u001B[39;49m\u001B[38;5;28;43;01mlambda\u001B[39;49;00m\u001B[43m \u001B[49m\u001B[43m_tag\u001B[49m\u001B[43m:\u001B[49m\u001B[43m \u001B[49m\u001B[43mnp\u001B[49m\u001B[38;5;241;43m.\u001B[39;49m\u001B[43mabs\u001B[49m\u001B[43m(\u001B[49m\u001B[43mloadings\u001B[49m\u001B[38;5;241;43m.\u001B[39;49m\u001B[43mat\u001B[49m\u001B[43m[\u001B[49m\u001B[43m_tag\u001B[49m\u001B[43m,\u001B[49m\u001B[43m \u001B[49m\u001B[43mx\u001B[49m\u001B[38;5;241;43m.\u001B[39;49m\u001B[43mname\u001B[49m\u001B[43m]\u001B[49m\u001B[43m)\u001B[49m\u001B[43m,\u001B[49m\u001B[43m \u001B[49m\u001B[43mreverse\u001B[49m\u001B[38;5;241;43m=\u001B[39;49m\u001B[38;5;28;43;01mTrue\u001B[39;49;00m\u001B[43m)\u001B[49m\u001B[43m[\u001B[49m\u001B[43m:\u001B[49m\u001B[38;5;241;43m5\u001B[39;49m\u001B[43m]\u001B[49m\u001B[43m)\u001B[49m\n\u001B[0;32m     30\u001B[0m \u001B[38;5;28mprint\u001B[39m(\u001B[38;5;124m\"\u001B[39m\u001B[38;5;130;01m\\n\u001B[39;00m\u001B[38;5;124mMost Significant Tags for Each Filtered Principal Component (Non-Empty):\u001B[39m\u001B[38;5;124m\"\u001B[39m)\n\u001B[0;32m     31\u001B[0m \u001B[38;5;28mprint\u001B[39m(top_significant_tags)\n",
      "File \u001B[1;32m~\\AppData\\Local\\Programs\\Python\\Python310\\lib\\site-packages\\pandas\\core\\frame.py:9433\u001B[0m, in \u001B[0;36mDataFrame.apply\u001B[1;34m(self, func, axis, raw, result_type, args, **kwargs)\u001B[0m\n\u001B[0;32m   9422\u001B[0m \u001B[38;5;28;01mfrom\u001B[39;00m \u001B[38;5;21;01mpandas\u001B[39;00m\u001B[38;5;21;01m.\u001B[39;00m\u001B[38;5;21;01mcore\u001B[39;00m\u001B[38;5;21;01m.\u001B[39;00m\u001B[38;5;21;01mapply\u001B[39;00m \u001B[38;5;28;01mimport\u001B[39;00m frame_apply\n\u001B[0;32m   9424\u001B[0m op \u001B[38;5;241m=\u001B[39m frame_apply(\n\u001B[0;32m   9425\u001B[0m     \u001B[38;5;28mself\u001B[39m,\n\u001B[0;32m   9426\u001B[0m     func\u001B[38;5;241m=\u001B[39mfunc,\n\u001B[1;32m   (...)\u001B[0m\n\u001B[0;32m   9431\u001B[0m     kwargs\u001B[38;5;241m=\u001B[39mkwargs,\n\u001B[0;32m   9432\u001B[0m )\n\u001B[1;32m-> 9433\u001B[0m \u001B[38;5;28;01mreturn\u001B[39;00m \u001B[43mop\u001B[49m\u001B[38;5;241;43m.\u001B[39;49m\u001B[43mapply\u001B[49m\u001B[43m(\u001B[49m\u001B[43m)\u001B[49m\u001B[38;5;241m.\u001B[39m__finalize__(\u001B[38;5;28mself\u001B[39m, method\u001B[38;5;241m=\u001B[39m\u001B[38;5;124m\"\u001B[39m\u001B[38;5;124mapply\u001B[39m\u001B[38;5;124m\"\u001B[39m)\n",
      "File \u001B[1;32m~\\AppData\\Local\\Programs\\Python\\Python310\\lib\\site-packages\\pandas\\core\\apply.py:678\u001B[0m, in \u001B[0;36mFrameApply.apply\u001B[1;34m(self)\u001B[0m\n\u001B[0;32m    675\u001B[0m \u001B[38;5;28;01melif\u001B[39;00m \u001B[38;5;28mself\u001B[39m\u001B[38;5;241m.\u001B[39mraw:\n\u001B[0;32m    676\u001B[0m     \u001B[38;5;28;01mreturn\u001B[39;00m \u001B[38;5;28mself\u001B[39m\u001B[38;5;241m.\u001B[39mapply_raw()\n\u001B[1;32m--> 678\u001B[0m \u001B[38;5;28;01mreturn\u001B[39;00m \u001B[38;5;28;43mself\u001B[39;49m\u001B[38;5;241;43m.\u001B[39;49m\u001B[43mapply_standard\u001B[49m\u001B[43m(\u001B[49m\u001B[43m)\u001B[49m\n",
      "File \u001B[1;32m~\\AppData\\Local\\Programs\\Python\\Python310\\lib\\site-packages\\pandas\\core\\apply.py:798\u001B[0m, in \u001B[0;36mFrameApply.apply_standard\u001B[1;34m(self)\u001B[0m\n\u001B[0;32m    797\u001B[0m \u001B[38;5;28;01mdef\u001B[39;00m \u001B[38;5;21mapply_standard\u001B[39m(\u001B[38;5;28mself\u001B[39m):\n\u001B[1;32m--> 798\u001B[0m     results, res_index \u001B[38;5;241m=\u001B[39m \u001B[38;5;28;43mself\u001B[39;49m\u001B[38;5;241;43m.\u001B[39;49m\u001B[43mapply_series_generator\u001B[49m\u001B[43m(\u001B[49m\u001B[43m)\u001B[49m\n\u001B[0;32m    800\u001B[0m     \u001B[38;5;66;03m# wrap results\u001B[39;00m\n\u001B[0;32m    801\u001B[0m     \u001B[38;5;28;01mreturn\u001B[39;00m \u001B[38;5;28mself\u001B[39m\u001B[38;5;241m.\u001B[39mwrap_results(results, res_index)\n",
      "File \u001B[1;32m~\\AppData\\Local\\Programs\\Python\\Python310\\lib\\site-packages\\pandas\\core\\apply.py:814\u001B[0m, in \u001B[0;36mFrameApply.apply_series_generator\u001B[1;34m(self)\u001B[0m\n\u001B[0;32m    811\u001B[0m \u001B[38;5;28;01mwith\u001B[39;00m option_context(\u001B[38;5;124m\"\u001B[39m\u001B[38;5;124mmode.chained_assignment\u001B[39m\u001B[38;5;124m\"\u001B[39m, \u001B[38;5;28;01mNone\u001B[39;00m):\n\u001B[0;32m    812\u001B[0m     \u001B[38;5;28;01mfor\u001B[39;00m i, v \u001B[38;5;129;01min\u001B[39;00m \u001B[38;5;28menumerate\u001B[39m(series_gen):\n\u001B[0;32m    813\u001B[0m         \u001B[38;5;66;03m# ignore SettingWithCopy here in case the user mutates\u001B[39;00m\n\u001B[1;32m--> 814\u001B[0m         results[i] \u001B[38;5;241m=\u001B[39m \u001B[38;5;28;43mself\u001B[39;49m\u001B[38;5;241;43m.\u001B[39;49m\u001B[43mf\u001B[49m\u001B[43m(\u001B[49m\u001B[43mv\u001B[49m\u001B[43m)\u001B[49m\n\u001B[0;32m    815\u001B[0m         \u001B[38;5;28;01mif\u001B[39;00m \u001B[38;5;28misinstance\u001B[39m(results[i], ABCSeries):\n\u001B[0;32m    816\u001B[0m             \u001B[38;5;66;03m# If we have a view on v, we need to make a copy because\u001B[39;00m\n\u001B[0;32m    817\u001B[0m             \u001B[38;5;66;03m#  series_generator will swap out the underlying data\u001B[39;00m\n\u001B[0;32m    818\u001B[0m             results[i] \u001B[38;5;241m=\u001B[39m results[i]\u001B[38;5;241m.\u001B[39mcopy(deep\u001B[38;5;241m=\u001B[39m\u001B[38;5;28;01mFalse\u001B[39;00m)\n",
      "Cell \u001B[1;32mIn[22], line 28\u001B[0m, in \u001B[0;36mperform_pca_and_select_tags.<locals>.<lambda>\u001B[1;34m(x)\u001B[0m\n\u001B[0;32m     24\u001B[0m \u001B[38;5;28mprint\u001B[39m(cumulative_explained_variance)\n\u001B[0;32m     26\u001B[0m loadings \u001B[38;5;241m=\u001B[39m pd\u001B[38;5;241m.\u001B[39mDataFrame(pca_optimal\u001B[38;5;241m.\u001B[39mcomponents_\u001B[38;5;241m.\u001B[39mT, index\u001B[38;5;241m=\u001B[39mall_tags, columns\u001B[38;5;241m=\u001B[39m[\u001B[38;5;124mf\u001B[39m\u001B[38;5;124m'\u001B[39m\u001B[38;5;124mPC\u001B[39m\u001B[38;5;132;01m{\u001B[39;00mi\u001B[38;5;241m+\u001B[39m\u001B[38;5;241m1\u001B[39m\u001B[38;5;132;01m}\u001B[39;00m\u001B[38;5;124m'\u001B[39m \u001B[38;5;28;01mfor\u001B[39;00m i \u001B[38;5;129;01min\u001B[39;00m \u001B[38;5;28mrange\u001B[39m(n_components)])\n\u001B[1;32m---> 28\u001B[0m top_significant_tags \u001B[38;5;241m=\u001B[39m loadings\u001B[38;5;241m.\u001B[39mapply(\u001B[38;5;28;01mlambda\u001B[39;00m x: \u001B[38;5;28;43msorted\u001B[39;49m\u001B[43m(\u001B[49m\u001B[43mx\u001B[49m\u001B[43m,\u001B[49m\u001B[43m \u001B[49m\u001B[43mkey\u001B[49m\u001B[38;5;241;43m=\u001B[39;49m\u001B[38;5;28;43;01mlambda\u001B[39;49;00m\u001B[43m \u001B[49m\u001B[43m_tag\u001B[49m\u001B[43m:\u001B[49m\u001B[43m \u001B[49m\u001B[43mnp\u001B[49m\u001B[38;5;241;43m.\u001B[39;49m\u001B[43mabs\u001B[49m\u001B[43m(\u001B[49m\u001B[43mloadings\u001B[49m\u001B[38;5;241;43m.\u001B[39;49m\u001B[43mat\u001B[49m\u001B[43m[\u001B[49m\u001B[43m_tag\u001B[49m\u001B[43m,\u001B[49m\u001B[43m \u001B[49m\u001B[43mx\u001B[49m\u001B[38;5;241;43m.\u001B[39;49m\u001B[43mname\u001B[49m\u001B[43m]\u001B[49m\u001B[43m)\u001B[49m\u001B[43m,\u001B[49m\u001B[43m \u001B[49m\u001B[43mreverse\u001B[49m\u001B[38;5;241;43m=\u001B[39;49m\u001B[38;5;28;43;01mTrue\u001B[39;49;00m\u001B[43m)\u001B[49m[:\u001B[38;5;241m5\u001B[39m])\n\u001B[0;32m     30\u001B[0m \u001B[38;5;28mprint\u001B[39m(\u001B[38;5;124m\"\u001B[39m\u001B[38;5;130;01m\\n\u001B[39;00m\u001B[38;5;124mMost Significant Tags for Each Filtered Principal Component (Non-Empty):\u001B[39m\u001B[38;5;124m\"\u001B[39m)\n\u001B[0;32m     31\u001B[0m \u001B[38;5;28mprint\u001B[39m(top_significant_tags)\n",
      "Cell \u001B[1;32mIn[22], line 28\u001B[0m, in \u001B[0;36mperform_pca_and_select_tags.<locals>.<lambda>\u001B[1;34m(_tag)\u001B[0m\n\u001B[0;32m     24\u001B[0m \u001B[38;5;28mprint\u001B[39m(cumulative_explained_variance)\n\u001B[0;32m     26\u001B[0m loadings \u001B[38;5;241m=\u001B[39m pd\u001B[38;5;241m.\u001B[39mDataFrame(pca_optimal\u001B[38;5;241m.\u001B[39mcomponents_\u001B[38;5;241m.\u001B[39mT, index\u001B[38;5;241m=\u001B[39mall_tags, columns\u001B[38;5;241m=\u001B[39m[\u001B[38;5;124mf\u001B[39m\u001B[38;5;124m'\u001B[39m\u001B[38;5;124mPC\u001B[39m\u001B[38;5;132;01m{\u001B[39;00mi\u001B[38;5;241m+\u001B[39m\u001B[38;5;241m1\u001B[39m\u001B[38;5;132;01m}\u001B[39;00m\u001B[38;5;124m'\u001B[39m \u001B[38;5;28;01mfor\u001B[39;00m i \u001B[38;5;129;01min\u001B[39;00m \u001B[38;5;28mrange\u001B[39m(n_components)])\n\u001B[1;32m---> 28\u001B[0m top_significant_tags \u001B[38;5;241m=\u001B[39m loadings\u001B[38;5;241m.\u001B[39mapply(\u001B[38;5;28;01mlambda\u001B[39;00m x: \u001B[38;5;28msorted\u001B[39m(x, key\u001B[38;5;241m=\u001B[39m\u001B[38;5;28;01mlambda\u001B[39;00m _tag: np\u001B[38;5;241m.\u001B[39mabs(\u001B[43mloadings\u001B[49m\u001B[38;5;241;43m.\u001B[39;49m\u001B[43mat\u001B[49m\u001B[43m[\u001B[49m\u001B[43m_tag\u001B[49m\u001B[43m,\u001B[49m\u001B[43m \u001B[49m\u001B[43mx\u001B[49m\u001B[38;5;241;43m.\u001B[39;49m\u001B[43mname\u001B[49m\u001B[43m]\u001B[49m), reverse\u001B[38;5;241m=\u001B[39m\u001B[38;5;28;01mTrue\u001B[39;00m)[:\u001B[38;5;241m5\u001B[39m])\n\u001B[0;32m     30\u001B[0m \u001B[38;5;28mprint\u001B[39m(\u001B[38;5;124m\"\u001B[39m\u001B[38;5;130;01m\\n\u001B[39;00m\u001B[38;5;124mMost Significant Tags for Each Filtered Principal Component (Non-Empty):\u001B[39m\u001B[38;5;124m\"\u001B[39m)\n\u001B[0;32m     31\u001B[0m \u001B[38;5;28mprint\u001B[39m(top_significant_tags)\n",
      "File \u001B[1;32m~\\AppData\\Local\\Programs\\Python\\Python310\\lib\\site-packages\\pandas\\core\\indexing.py:2412\u001B[0m, in \u001B[0;36m_AtIndexer.__getitem__\u001B[1;34m(self, key)\u001B[0m\n\u001B[0;32m   2409\u001B[0m         \u001B[38;5;28;01mraise\u001B[39;00m \u001B[38;5;167;01mValueError\u001B[39;00m(\u001B[38;5;124m\"\u001B[39m\u001B[38;5;124mInvalid call for scalar access (getting)!\u001B[39m\u001B[38;5;124m\"\u001B[39m)\n\u001B[0;32m   2410\u001B[0m     \u001B[38;5;28;01mreturn\u001B[39;00m \u001B[38;5;28mself\u001B[39m\u001B[38;5;241m.\u001B[39mobj\u001B[38;5;241m.\u001B[39mloc[key]\n\u001B[1;32m-> 2412\u001B[0m \u001B[38;5;28;01mreturn\u001B[39;00m \u001B[38;5;28;43msuper\u001B[39;49m\u001B[43m(\u001B[49m\u001B[43m)\u001B[49m\u001B[38;5;241;43m.\u001B[39;49m\u001B[38;5;21;43m__getitem__\u001B[39;49m\u001B[43m(\u001B[49m\u001B[43mkey\u001B[49m\u001B[43m)\u001B[49m\n",
      "File \u001B[1;32m~\\AppData\\Local\\Programs\\Python\\Python310\\lib\\site-packages\\pandas\\core\\indexing.py:2364\u001B[0m, in \u001B[0;36m_ScalarAccessIndexer.__getitem__\u001B[1;34m(self, key)\u001B[0m\n\u001B[0;32m   2361\u001B[0m         \u001B[38;5;28;01mraise\u001B[39;00m \u001B[38;5;167;01mValueError\u001B[39;00m(\u001B[38;5;124m\"\u001B[39m\u001B[38;5;124mInvalid call for scalar access (getting)!\u001B[39m\u001B[38;5;124m\"\u001B[39m)\n\u001B[0;32m   2363\u001B[0m key \u001B[38;5;241m=\u001B[39m \u001B[38;5;28mself\u001B[39m\u001B[38;5;241m.\u001B[39m_convert_key(key)\n\u001B[1;32m-> 2364\u001B[0m \u001B[38;5;28;01mreturn\u001B[39;00m \u001B[38;5;28;43mself\u001B[39;49m\u001B[38;5;241;43m.\u001B[39;49m\u001B[43mobj\u001B[49m\u001B[38;5;241;43m.\u001B[39;49m\u001B[43m_get_value\u001B[49m\u001B[43m(\u001B[49m\u001B[38;5;241;43m*\u001B[39;49m\u001B[43mkey\u001B[49m\u001B[43m,\u001B[49m\u001B[43m \u001B[49m\u001B[43mtakeable\u001B[49m\u001B[38;5;241;43m=\u001B[39;49m\u001B[38;5;28;43mself\u001B[39;49m\u001B[38;5;241;43m.\u001B[39;49m\u001B[43m_takeable\u001B[49m\u001B[43m)\u001B[49m\n",
      "File \u001B[1;32m~\\AppData\\Local\\Programs\\Python\\Python310\\lib\\site-packages\\pandas\\core\\frame.py:3887\u001B[0m, in \u001B[0;36mDataFrame._get_value\u001B[1;34m(self, index, col, takeable)\u001B[0m\n\u001B[0;32m   3881\u001B[0m engine \u001B[38;5;241m=\u001B[39m \u001B[38;5;28mself\u001B[39m\u001B[38;5;241m.\u001B[39mindex\u001B[38;5;241m.\u001B[39m_engine\n\u001B[0;32m   3883\u001B[0m \u001B[38;5;28;01mif\u001B[39;00m \u001B[38;5;129;01mnot\u001B[39;00m \u001B[38;5;28misinstance\u001B[39m(\u001B[38;5;28mself\u001B[39m\u001B[38;5;241m.\u001B[39mindex, MultiIndex):\n\u001B[0;32m   3884\u001B[0m     \u001B[38;5;66;03m# CategoricalIndex: Trying to use the engine fastpath may give incorrect\u001B[39;00m\n\u001B[0;32m   3885\u001B[0m     \u001B[38;5;66;03m#  results if our categories are integers that dont match our codes\u001B[39;00m\n\u001B[0;32m   3886\u001B[0m     \u001B[38;5;66;03m# IntervalIndex: IntervalTree has no get_loc\u001B[39;00m\n\u001B[1;32m-> 3887\u001B[0m     row \u001B[38;5;241m=\u001B[39m \u001B[38;5;28;43mself\u001B[39;49m\u001B[38;5;241;43m.\u001B[39;49m\u001B[43mindex\u001B[49m\u001B[38;5;241;43m.\u001B[39;49m\u001B[43mget_loc\u001B[49m\u001B[43m(\u001B[49m\u001B[43mindex\u001B[49m\u001B[43m)\u001B[49m\n\u001B[0;32m   3888\u001B[0m     \u001B[38;5;28;01mreturn\u001B[39;00m series\u001B[38;5;241m.\u001B[39m_values[row]\n\u001B[0;32m   3890\u001B[0m \u001B[38;5;66;03m# For MultiIndex going through engine effectively restricts us to\u001B[39;00m\n\u001B[0;32m   3891\u001B[0m \u001B[38;5;66;03m#  same-length tuples; see test_get_set_value_no_partial_indexing\u001B[39;00m\n",
      "File \u001B[1;32m~\\AppData\\Local\\Programs\\Python\\Python310\\lib\\site-packages\\pandas\\core\\indexes\\base.py:3654\u001B[0m, in \u001B[0;36mIndex.get_loc\u001B[1;34m(self, key)\u001B[0m\n\u001B[0;32m   3652\u001B[0m     \u001B[38;5;28;01mreturn\u001B[39;00m \u001B[38;5;28mself\u001B[39m\u001B[38;5;241m.\u001B[39m_engine\u001B[38;5;241m.\u001B[39mget_loc(casted_key)\n\u001B[0;32m   3653\u001B[0m \u001B[38;5;28;01mexcept\u001B[39;00m \u001B[38;5;167;01mKeyError\u001B[39;00m \u001B[38;5;28;01mas\u001B[39;00m err:\n\u001B[1;32m-> 3654\u001B[0m     \u001B[38;5;28;01mraise\u001B[39;00m \u001B[38;5;167;01mKeyError\u001B[39;00m(key) \u001B[38;5;28;01mfrom\u001B[39;00m \u001B[38;5;21;01merr\u001B[39;00m\n\u001B[0;32m   3655\u001B[0m \u001B[38;5;28;01mexcept\u001B[39;00m \u001B[38;5;167;01mTypeError\u001B[39;00m:\n\u001B[0;32m   3656\u001B[0m     \u001B[38;5;66;03m# If we have a listlike key, _check_indexing_error will raise\u001B[39;00m\n\u001B[0;32m   3657\u001B[0m     \u001B[38;5;66;03m#  InvalidIndexError. Otherwise we fall through and re-raise\u001B[39;00m\n\u001B[0;32m   3658\u001B[0m     \u001B[38;5;66;03m#  the TypeError.\u001B[39;00m\n\u001B[0;32m   3659\u001B[0m     \u001B[38;5;28mself\u001B[39m\u001B[38;5;241m.\u001B[39m_check_indexing_error(key)\n",
      "\u001B[1;31mKeyError\u001B[0m: -0.04290175094320356"
     ]
    }
   ],
   "source": [
    "available_recipes = simulate_user_choices(data)"
   ],
   "metadata": {
    "collapsed": false
   }
  }
 ],
 "metadata": {
  "kernelspec": {
   "display_name": "Python 3",
   "language": "python",
   "name": "python3"
  },
  "language_info": {
   "codemirror_mode": {
    "name": "ipython",
    "version": 2
   },
   "file_extension": ".py",
   "mimetype": "text/x-python",
   "name": "python",
   "nbconvert_exporter": "python",
   "pygments_lexer": "ipython2",
   "version": "2.7.6"
  }
 },
 "nbformat": 4,
 "nbformat_minor": 0
}
